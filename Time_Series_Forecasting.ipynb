{
 "cells": [
  {
   "cell_type": "code",
   "execution_count": 14,
   "metadata": {},
   "outputs": [],
   "source": [
    "import numpy as np\n",
    "import pandas as pd \n",
    "import matplotlib.pyplot as plt \n",
    "import seaborn as sns "
   ]
  },
  {
   "cell_type": "code",
   "execution_count": 15,
   "metadata": {},
   "outputs": [],
   "source": [
    "#load dataset\n",
    "df = pd.read_csv('travel_data.csv', header = None)"
   ]
  },
  {
   "cell_type": "code",
   "execution_count": 16,
   "metadata": {},
   "outputs": [
    {
     "data": {
      "text/html": [
       "<div>\n",
       "<style scoped>\n",
       "    .dataframe tbody tr th:only-of-type {\n",
       "        vertical-align: middle;\n",
       "    }\n",
       "\n",
       "    .dataframe tbody tr th {\n",
       "        vertical-align: top;\n",
       "    }\n",
       "\n",
       "    .dataframe thead th {\n",
       "        text-align: right;\n",
       "    }\n",
       "</style>\n",
       "<table border=\"1\" class=\"dataframe\">\n",
       "  <thead>\n",
       "    <tr style=\"text-align: right;\">\n",
       "      <th></th>\n",
       "      <th>0</th>\n",
       "      <th>1</th>\n",
       "    </tr>\n",
       "  </thead>\n",
       "  <tbody>\n",
       "    <tr>\n",
       "      <th>0</th>\n",
       "      <td>1949-01</td>\n",
       "      <td>112</td>\n",
       "    </tr>\n",
       "    <tr>\n",
       "      <th>1</th>\n",
       "      <td>1949-02</td>\n",
       "      <td>118</td>\n",
       "    </tr>\n",
       "    <tr>\n",
       "      <th>2</th>\n",
       "      <td>1949-03</td>\n",
       "      <td>132</td>\n",
       "    </tr>\n",
       "    <tr>\n",
       "      <th>3</th>\n",
       "      <td>1949-04</td>\n",
       "      <td>129</td>\n",
       "    </tr>\n",
       "    <tr>\n",
       "      <th>4</th>\n",
       "      <td>1949-05</td>\n",
       "      <td>121</td>\n",
       "    </tr>\n",
       "  </tbody>\n",
       "</table>\n",
       "</div>"
      ],
      "text/plain": [
       "         0    1\n",
       "0  1949-01  112\n",
       "1  1949-02  118\n",
       "2  1949-03  132\n",
       "3  1949-04  129\n",
       "4  1949-05  121"
      ]
     },
     "execution_count": 16,
     "metadata": {},
     "output_type": "execute_result"
    }
   ],
   "source": [
    "df.head()"
   ]
  },
  {
   "cell_type": "code",
   "execution_count": 17,
   "metadata": {},
   "outputs": [],
   "source": [
    "df.rename(columns = {0:'time', 1:'travellers'}, inplace = True)"
   ]
  },
  {
   "cell_type": "code",
   "execution_count": 18,
   "metadata": {},
   "outputs": [
    {
     "data": {
      "text/html": [
       "<div>\n",
       "<style scoped>\n",
       "    .dataframe tbody tr th:only-of-type {\n",
       "        vertical-align: middle;\n",
       "    }\n",
       "\n",
       "    .dataframe tbody tr th {\n",
       "        vertical-align: top;\n",
       "    }\n",
       "\n",
       "    .dataframe thead th {\n",
       "        text-align: right;\n",
       "    }\n",
       "</style>\n",
       "<table border=\"1\" class=\"dataframe\">\n",
       "  <thead>\n",
       "    <tr style=\"text-align: right;\">\n",
       "      <th></th>\n",
       "      <th>time</th>\n",
       "      <th>travellers</th>\n",
       "    </tr>\n",
       "  </thead>\n",
       "  <tbody>\n",
       "    <tr>\n",
       "      <th>0</th>\n",
       "      <td>1949-01</td>\n",
       "      <td>112</td>\n",
       "    </tr>\n",
       "    <tr>\n",
       "      <th>1</th>\n",
       "      <td>1949-02</td>\n",
       "      <td>118</td>\n",
       "    </tr>\n",
       "    <tr>\n",
       "      <th>2</th>\n",
       "      <td>1949-03</td>\n",
       "      <td>132</td>\n",
       "    </tr>\n",
       "    <tr>\n",
       "      <th>3</th>\n",
       "      <td>1949-04</td>\n",
       "      <td>129</td>\n",
       "    </tr>\n",
       "    <tr>\n",
       "      <th>4</th>\n",
       "      <td>1949-05</td>\n",
       "      <td>121</td>\n",
       "    </tr>\n",
       "    <tr>\n",
       "      <th>...</th>\n",
       "      <td>...</td>\n",
       "      <td>...</td>\n",
       "    </tr>\n",
       "    <tr>\n",
       "      <th>139</th>\n",
       "      <td>1960-08</td>\n",
       "      <td>606</td>\n",
       "    </tr>\n",
       "    <tr>\n",
       "      <th>140</th>\n",
       "      <td>1960-09</td>\n",
       "      <td>508</td>\n",
       "    </tr>\n",
       "    <tr>\n",
       "      <th>141</th>\n",
       "      <td>1960-10</td>\n",
       "      <td>461</td>\n",
       "    </tr>\n",
       "    <tr>\n",
       "      <th>142</th>\n",
       "      <td>1960-11</td>\n",
       "      <td>390</td>\n",
       "    </tr>\n",
       "    <tr>\n",
       "      <th>143</th>\n",
       "      <td>1960-12</td>\n",
       "      <td>432</td>\n",
       "    </tr>\n",
       "  </tbody>\n",
       "</table>\n",
       "<p>144 rows × 2 columns</p>\n",
       "</div>"
      ],
      "text/plain": [
       "        time  travellers\n",
       "0    1949-01         112\n",
       "1    1949-02         118\n",
       "2    1949-03         132\n",
       "3    1949-04         129\n",
       "4    1949-05         121\n",
       "..       ...         ...\n",
       "139  1960-08         606\n",
       "140  1960-09         508\n",
       "141  1960-10         461\n",
       "142  1960-11         390\n",
       "143  1960-12         432\n",
       "\n",
       "[144 rows x 2 columns]"
      ]
     },
     "execution_count": 18,
     "metadata": {},
     "output_type": "execute_result"
    }
   ],
   "source": [
    "df"
   ]
  },
  {
   "cell_type": "code",
   "execution_count": 19,
   "metadata": {},
   "outputs": [
    {
     "data": {
      "text/html": [
       "<div>\n",
       "<style scoped>\n",
       "    .dataframe tbody tr th:only-of-type {\n",
       "        vertical-align: middle;\n",
       "    }\n",
       "\n",
       "    .dataframe tbody tr th {\n",
       "        vertical-align: top;\n",
       "    }\n",
       "\n",
       "    .dataframe thead th {\n",
       "        text-align: right;\n",
       "    }\n",
       "</style>\n",
       "<table border=\"1\" class=\"dataframe\">\n",
       "  <thead>\n",
       "    <tr style=\"text-align: right;\">\n",
       "      <th></th>\n",
       "      <th>travellers</th>\n",
       "    </tr>\n",
       "  </thead>\n",
       "  <tbody>\n",
       "    <tr>\n",
       "      <th>count</th>\n",
       "      <td>144.000000</td>\n",
       "    </tr>\n",
       "    <tr>\n",
       "      <th>mean</th>\n",
       "      <td>280.298611</td>\n",
       "    </tr>\n",
       "    <tr>\n",
       "      <th>std</th>\n",
       "      <td>119.966317</td>\n",
       "    </tr>\n",
       "    <tr>\n",
       "      <th>min</th>\n",
       "      <td>104.000000</td>\n",
       "    </tr>\n",
       "    <tr>\n",
       "      <th>25%</th>\n",
       "      <td>180.000000</td>\n",
       "    </tr>\n",
       "    <tr>\n",
       "      <th>50%</th>\n",
       "      <td>265.500000</td>\n",
       "    </tr>\n",
       "    <tr>\n",
       "      <th>75%</th>\n",
       "      <td>360.500000</td>\n",
       "    </tr>\n",
       "    <tr>\n",
       "      <th>max</th>\n",
       "      <td>622.000000</td>\n",
       "    </tr>\n",
       "  </tbody>\n",
       "</table>\n",
       "</div>"
      ],
      "text/plain": [
       "       travellers\n",
       "count  144.000000\n",
       "mean   280.298611\n",
       "std    119.966317\n",
       "min    104.000000\n",
       "25%    180.000000\n",
       "50%    265.500000\n",
       "75%    360.500000\n",
       "max    622.000000"
      ]
     },
     "execution_count": 19,
     "metadata": {},
     "output_type": "execute_result"
    }
   ],
   "source": [
    "df.describe()"
   ]
  },
  {
   "cell_type": "code",
   "execution_count": 20,
   "metadata": {},
   "outputs": [
    {
     "name": "stdout",
     "output_type": "stream",
     "text": [
      "<class 'pandas.core.frame.DataFrame'>\n",
      "RangeIndex: 144 entries, 0 to 143\n",
      "Data columns (total 2 columns):\n",
      " #   Column      Non-Null Count  Dtype \n",
      "---  ------      --------------  ----- \n",
      " 0   time        144 non-null    object\n",
      " 1   travellers  144 non-null    int64 \n",
      "dtypes: int64(1), object(1)\n",
      "memory usage: 2.4+ KB\n"
     ]
    }
   ],
   "source": [
    "df.info()"
   ]
  },
  {
   "cell_type": "code",
   "execution_count": 21,
   "metadata": {},
   "outputs": [
    {
     "data": {
      "text/plain": [
       "'1949-01'"
      ]
     },
     "execution_count": 21,
     "metadata": {},
     "output_type": "execute_result"
    }
   ],
   "source": [
    "df['time'].min()"
   ]
  },
  {
   "cell_type": "code",
   "execution_count": 22,
   "metadata": {},
   "outputs": [
    {
     "data": {
      "text/plain": [
       "'1960-12'"
      ]
     },
     "execution_count": 22,
     "metadata": {},
     "output_type": "execute_result"
    }
   ],
   "source": [
    "df['time'].max()"
   ]
  },
  {
   "cell_type": "code",
   "execution_count": 23,
   "metadata": {},
   "outputs": [],
   "source": [
    "df['year_month'] = pd.to_datetime(df['time'], format='%Y-%m')"
   ]
  },
  {
   "cell_type": "code",
   "execution_count": 24,
   "metadata": {},
   "outputs": [
    {
     "data": {
      "text/html": [
       "<div>\n",
       "<style scoped>\n",
       "    .dataframe tbody tr th:only-of-type {\n",
       "        vertical-align: middle;\n",
       "    }\n",
       "\n",
       "    .dataframe tbody tr th {\n",
       "        vertical-align: top;\n",
       "    }\n",
       "\n",
       "    .dataframe thead th {\n",
       "        text-align: right;\n",
       "    }\n",
       "</style>\n",
       "<table border=\"1\" class=\"dataframe\">\n",
       "  <thead>\n",
       "    <tr style=\"text-align: right;\">\n",
       "      <th></th>\n",
       "      <th>time</th>\n",
       "      <th>travellers</th>\n",
       "      <th>year_month</th>\n",
       "    </tr>\n",
       "  </thead>\n",
       "  <tbody>\n",
       "    <tr>\n",
       "      <th>0</th>\n",
       "      <td>1949-01</td>\n",
       "      <td>112</td>\n",
       "      <td>1949-01-01</td>\n",
       "    </tr>\n",
       "    <tr>\n",
       "      <th>1</th>\n",
       "      <td>1949-02</td>\n",
       "      <td>118</td>\n",
       "      <td>1949-02-01</td>\n",
       "    </tr>\n",
       "    <tr>\n",
       "      <th>2</th>\n",
       "      <td>1949-03</td>\n",
       "      <td>132</td>\n",
       "      <td>1949-03-01</td>\n",
       "    </tr>\n",
       "    <tr>\n",
       "      <th>3</th>\n",
       "      <td>1949-04</td>\n",
       "      <td>129</td>\n",
       "      <td>1949-04-01</td>\n",
       "    </tr>\n",
       "    <tr>\n",
       "      <th>4</th>\n",
       "      <td>1949-05</td>\n",
       "      <td>121</td>\n",
       "      <td>1949-05-01</td>\n",
       "    </tr>\n",
       "    <tr>\n",
       "      <th>...</th>\n",
       "      <td>...</td>\n",
       "      <td>...</td>\n",
       "      <td>...</td>\n",
       "    </tr>\n",
       "    <tr>\n",
       "      <th>139</th>\n",
       "      <td>1960-08</td>\n",
       "      <td>606</td>\n",
       "      <td>1960-08-01</td>\n",
       "    </tr>\n",
       "    <tr>\n",
       "      <th>140</th>\n",
       "      <td>1960-09</td>\n",
       "      <td>508</td>\n",
       "      <td>1960-09-01</td>\n",
       "    </tr>\n",
       "    <tr>\n",
       "      <th>141</th>\n",
       "      <td>1960-10</td>\n",
       "      <td>461</td>\n",
       "      <td>1960-10-01</td>\n",
       "    </tr>\n",
       "    <tr>\n",
       "      <th>142</th>\n",
       "      <td>1960-11</td>\n",
       "      <td>390</td>\n",
       "      <td>1960-11-01</td>\n",
       "    </tr>\n",
       "    <tr>\n",
       "      <th>143</th>\n",
       "      <td>1960-12</td>\n",
       "      <td>432</td>\n",
       "      <td>1960-12-01</td>\n",
       "    </tr>\n",
       "  </tbody>\n",
       "</table>\n",
       "<p>144 rows × 3 columns</p>\n",
       "</div>"
      ],
      "text/plain": [
       "        time  travellers year_month\n",
       "0    1949-01         112 1949-01-01\n",
       "1    1949-02         118 1949-02-01\n",
       "2    1949-03         132 1949-03-01\n",
       "3    1949-04         129 1949-04-01\n",
       "4    1949-05         121 1949-05-01\n",
       "..       ...         ...        ...\n",
       "139  1960-08         606 1960-08-01\n",
       "140  1960-09         508 1960-09-01\n",
       "141  1960-10         461 1960-10-01\n",
       "142  1960-11         390 1960-11-01\n",
       "143  1960-12         432 1960-12-01\n",
       "\n",
       "[144 rows x 3 columns]"
      ]
     },
     "execution_count": 24,
     "metadata": {},
     "output_type": "execute_result"
    }
   ],
   "source": [
    "df"
   ]
  },
  {
   "cell_type": "code",
   "execution_count": 25,
   "metadata": {},
   "outputs": [],
   "source": [
    "df.drop('time', axis = 1, inplace = True)"
   ]
  },
  {
   "cell_type": "code",
   "execution_count": 26,
   "metadata": {},
   "outputs": [
    {
     "data": {
      "text/html": [
       "<div>\n",
       "<style scoped>\n",
       "    .dataframe tbody tr th:only-of-type {\n",
       "        vertical-align: middle;\n",
       "    }\n",
       "\n",
       "    .dataframe tbody tr th {\n",
       "        vertical-align: top;\n",
       "    }\n",
       "\n",
       "    .dataframe thead th {\n",
       "        text-align: right;\n",
       "    }\n",
       "</style>\n",
       "<table border=\"1\" class=\"dataframe\">\n",
       "  <thead>\n",
       "    <tr style=\"text-align: right;\">\n",
       "      <th></th>\n",
       "      <th>travellers</th>\n",
       "      <th>year_month</th>\n",
       "    </tr>\n",
       "  </thead>\n",
       "  <tbody>\n",
       "    <tr>\n",
       "      <th>0</th>\n",
       "      <td>112</td>\n",
       "      <td>1949-01-01</td>\n",
       "    </tr>\n",
       "    <tr>\n",
       "      <th>1</th>\n",
       "      <td>118</td>\n",
       "      <td>1949-02-01</td>\n",
       "    </tr>\n",
       "    <tr>\n",
       "      <th>2</th>\n",
       "      <td>132</td>\n",
       "      <td>1949-03-01</td>\n",
       "    </tr>\n",
       "    <tr>\n",
       "      <th>3</th>\n",
       "      <td>129</td>\n",
       "      <td>1949-04-01</td>\n",
       "    </tr>\n",
       "    <tr>\n",
       "      <th>4</th>\n",
       "      <td>121</td>\n",
       "      <td>1949-05-01</td>\n",
       "    </tr>\n",
       "    <tr>\n",
       "      <th>...</th>\n",
       "      <td>...</td>\n",
       "      <td>...</td>\n",
       "    </tr>\n",
       "    <tr>\n",
       "      <th>139</th>\n",
       "      <td>606</td>\n",
       "      <td>1960-08-01</td>\n",
       "    </tr>\n",
       "    <tr>\n",
       "      <th>140</th>\n",
       "      <td>508</td>\n",
       "      <td>1960-09-01</td>\n",
       "    </tr>\n",
       "    <tr>\n",
       "      <th>141</th>\n",
       "      <td>461</td>\n",
       "      <td>1960-10-01</td>\n",
       "    </tr>\n",
       "    <tr>\n",
       "      <th>142</th>\n",
       "      <td>390</td>\n",
       "      <td>1960-11-01</td>\n",
       "    </tr>\n",
       "    <tr>\n",
       "      <th>143</th>\n",
       "      <td>432</td>\n",
       "      <td>1960-12-01</td>\n",
       "    </tr>\n",
       "  </tbody>\n",
       "</table>\n",
       "<p>144 rows × 2 columns</p>\n",
       "</div>"
      ],
      "text/plain": [
       "     travellers year_month\n",
       "0           112 1949-01-01\n",
       "1           118 1949-02-01\n",
       "2           132 1949-03-01\n",
       "3           129 1949-04-01\n",
       "4           121 1949-05-01\n",
       "..          ...        ...\n",
       "139         606 1960-08-01\n",
       "140         508 1960-09-01\n",
       "141         461 1960-10-01\n",
       "142         390 1960-11-01\n",
       "143         432 1960-12-01\n",
       "\n",
       "[144 rows x 2 columns]"
      ]
     },
     "execution_count": 26,
     "metadata": {},
     "output_type": "execute_result"
    }
   ],
   "source": [
    "df"
   ]
  },
  {
   "cell_type": "code",
   "execution_count": 27,
   "metadata": {},
   "outputs": [],
   "source": [
    "new_df = df.set_index('year_month')"
   ]
  },
  {
   "cell_type": "code",
   "execution_count": 28,
   "metadata": {},
   "outputs": [
    {
     "data": {
      "text/html": [
       "<div>\n",
       "<style scoped>\n",
       "    .dataframe tbody tr th:only-of-type {\n",
       "        vertical-align: middle;\n",
       "    }\n",
       "\n",
       "    .dataframe tbody tr th {\n",
       "        vertical-align: top;\n",
       "    }\n",
       "\n",
       "    .dataframe thead th {\n",
       "        text-align: right;\n",
       "    }\n",
       "</style>\n",
       "<table border=\"1\" class=\"dataframe\">\n",
       "  <thead>\n",
       "    <tr style=\"text-align: right;\">\n",
       "      <th></th>\n",
       "      <th>travellers</th>\n",
       "    </tr>\n",
       "    <tr>\n",
       "      <th>year_month</th>\n",
       "      <th></th>\n",
       "    </tr>\n",
       "  </thead>\n",
       "  <tbody>\n",
       "    <tr>\n",
       "      <th>1949-01-01</th>\n",
       "      <td>112</td>\n",
       "    </tr>\n",
       "    <tr>\n",
       "      <th>1949-02-01</th>\n",
       "      <td>118</td>\n",
       "    </tr>\n",
       "    <tr>\n",
       "      <th>1949-03-01</th>\n",
       "      <td>132</td>\n",
       "    </tr>\n",
       "    <tr>\n",
       "      <th>1949-04-01</th>\n",
       "      <td>129</td>\n",
       "    </tr>\n",
       "    <tr>\n",
       "      <th>1949-05-01</th>\n",
       "      <td>121</td>\n",
       "    </tr>\n",
       "    <tr>\n",
       "      <th>...</th>\n",
       "      <td>...</td>\n",
       "    </tr>\n",
       "    <tr>\n",
       "      <th>1960-08-01</th>\n",
       "      <td>606</td>\n",
       "    </tr>\n",
       "    <tr>\n",
       "      <th>1960-09-01</th>\n",
       "      <td>508</td>\n",
       "    </tr>\n",
       "    <tr>\n",
       "      <th>1960-10-01</th>\n",
       "      <td>461</td>\n",
       "    </tr>\n",
       "    <tr>\n",
       "      <th>1960-11-01</th>\n",
       "      <td>390</td>\n",
       "    </tr>\n",
       "    <tr>\n",
       "      <th>1960-12-01</th>\n",
       "      <td>432</td>\n",
       "    </tr>\n",
       "  </tbody>\n",
       "</table>\n",
       "<p>144 rows × 1 columns</p>\n",
       "</div>"
      ],
      "text/plain": [
       "            travellers\n",
       "year_month            \n",
       "1949-01-01         112\n",
       "1949-02-01         118\n",
       "1949-03-01         132\n",
       "1949-04-01         129\n",
       "1949-05-01         121\n",
       "...                ...\n",
       "1960-08-01         606\n",
       "1960-09-01         508\n",
       "1960-10-01         461\n",
       "1960-11-01         390\n",
       "1960-12-01         432\n",
       "\n",
       "[144 rows x 1 columns]"
      ]
     },
     "execution_count": 28,
     "metadata": {},
     "output_type": "execute_result"
    }
   ],
   "source": [
    "new_df"
   ]
  },
  {
   "cell_type": "code",
   "execution_count": 29,
   "metadata": {},
   "outputs": [
    {
     "data": {
      "text/plain": [
       "144"
      ]
     },
     "execution_count": 29,
     "metadata": {},
     "output_type": "execute_result"
    }
   ],
   "source": [
    "len(df['year_month'].value_counts())"
   ]
  },
  {
   "cell_type": "code",
   "execution_count": 30,
   "metadata": {},
   "outputs": [
    {
     "data": {
      "text/plain": [
       "travellers    0\n",
       "year_month    0\n",
       "dtype: int64"
      ]
     },
     "execution_count": 30,
     "metadata": {},
     "output_type": "execute_result"
    }
   ],
   "source": [
    "df.isnull().sum()"
   ]
  },
  {
   "cell_type": "code",
   "execution_count": 31,
   "metadata": {},
   "outputs": [
    {
     "data": {
      "text/plain": [
       "<AxesSubplot:xlabel='year_month'>"
      ]
     },
     "execution_count": 31,
     "metadata": {},
     "output_type": "execute_result"
    },
    {
     "data": {
      "image/png": "[encoded data removed]",
      "text/plain": [
       "<Figure size 720x504 with 1 Axes>"
      ]
     },
     "metadata": {
      "needs_background": "light"
     },
     "output_type": "display_data"
    }
   ],
   "source": [
    "new_df.plot(figsize = (10,7))"
   ]
  },
  {
   "cell_type": "code",
   "execution_count": 32,
   "metadata": {},
   "outputs": [
    {
     "name": "stderr",
     "output_type": "stream",
     "text": [
      "c:\\users\\ag92031\\appdata\\local\\programs\\python\\python37\\lib\\site-packages\\seaborn\\distributions.py:2557: FutureWarning: `distplot` is a deprecated function and will be removed in a future version. Please adapt your code to use either `displot` (a figure-level function with similar flexibility) or `histplot` (an axes-level function for histograms).\n",
      "  warnings.warn(msg, FutureWarning)\n"
     ]
    },
    {
     "data": {
      "text/plain": [
       "<AxesSubplot:xlabel='travellers', ylabel='Density'>"
      ]
     },
     "execution_count": 32,
     "metadata": {},
     "output_type": "execute_result"
    },
    {
     "data": {
      "image/png": "[encoded data removed]",
      "text/plain": [
       "<Figure size 432x288 with 1 Axes>"
      ]
     },
     "metadata": {
      "needs_background": "light"
     },
     "output_type": "display_data"
    }
   ],
   "source": [
    "sns.distplot(new_df['travellers'])"
   ]
  },
  {
   "cell_type": "code",
   "execution_count": 33,
   "metadata": {},
   "outputs": [
    {
     "data": {
      "text/plain": [
       "<AxesSubplot:ylabel='Density'>"
      ]
     },
     "execution_count": 33,
     "metadata": {},
     "output_type": "execute_result"
    },
    {
     "data": {
      "image/png": "[encoded data removed]",
      "text/plain": [
       "<Figure size 432x288 with 1 Axes>"
      ]
     },
     "metadata": {
      "needs_background": "light"
     },
     "output_type": "display_data"
    }
   ],
   "source": [
    "new_df['travellers'].plot(kind = 'kde')"
   ]
  },
  {
   "cell_type": "code",
   "execution_count": 34,
   "metadata": {},
   "outputs": [
    {
     "name": "stderr",
     "output_type": "stream",
     "text": [
      "c:\\users\\ag92031\\appdata\\local\\programs\\python\\python37\\lib\\site-packages\\seaborn\\_decorators.py:43: FutureWarning: Pass the following variables as keyword args: x, y. From version 0.12, the only valid positional argument will be `data`, and passing other arguments without an explicit keyword will result in an error or misinterpretation.\n",
      "  FutureWarning\n"
     ]
    },
    {
     "data": {
      "text/plain": [
       "<AxesSubplot:xlabel='year_month', ylabel='travellers'>"
      ]
     },
     "execution_count": 34,
     "metadata": {},
     "output_type": "execute_result"
    },
    {
     "data": {
      "image/png": "[encoded data removed]",
      "text/plain": [
       "<Figure size 432x288 with 1 Axes>"
      ]
     },
     "metadata": {
      "needs_background": "light"
     },
     "output_type": "display_data"
    }
   ],
   "source": [
    "sns.boxplot(new_df['travellers'].index.year, new_df['travellers'], )"
   ]
  },
  {
   "cell_type": "code",
   "execution_count": 36,
   "metadata": {},
   "outputs": [],
   "source": [
    "# iqr = q3 - q1 = 180"
   ]
  },
  {
   "cell_type": "code",
   "execution_count": null,
   "metadata": {},
   "outputs": [],
   "source": [
    "# q3 + 1.5 * iqr = 360 + 1.5*180"
   ]
  },
  {
   "cell_type": "code",
   "execution_count": null,
   "metadata": {},
   "outputs": [],
   "source": []
  },
  {
   "cell_type": "code",
   "execution_count": null,
   "metadata": {},
   "outputs": [],
   "source": [
    "#1. Decomposing using statsmodel "
   ]
  },
  {
   "cell_type": "code",
   "execution_count": 2,
   "metadata": {},
   "outputs": [
    {
     "name": "stdout",
     "output_type": "stream",
     "text": [
      "Collecting pyramid\n",
      "  Downloading pyramid-2.0-py3-none-any.whl (246 kB)\n",
      "Collecting zope.deprecation>=3.5.0\n",
      "  Downloading zope.deprecation-4.4.0-py2.py3-none-any.whl (10 kB)\n",
      "Collecting hupper>=1.5\n",
      "  Downloading hupper-1.10.3-py2.py3-none-any.whl (26 kB)\n",
      "Requirement already satisfied: zope.interface>=3.8.0 in c:\\users\\ag92031\\appdata\\local\\programs\\python\\python37\\lib\\site-packages (from pyramid) (5.4.0)\n",
      "Requirement already satisfied: setuptools in c:\\users\\ag92031\\appdata\\local\\programs\\python\\python37\\lib\\site-packages (from pyramid) (54.1.2)\n",
      "Collecting webob>=1.8.3\n",
      "  Downloading WebOb-1.8.7-py2.py3-none-any.whl (114 kB)\n",
      "Collecting plaster-pastedeploy\n",
      "  Downloading plaster_pastedeploy-0.7-py2.py3-none-any.whl (7.8 kB)\n",
      "Collecting translationstring>=0.4\n",
      "  Downloading translationstring-1.4-py2.py3-none-any.whl (15 kB)\n",
      "Collecting plaster\n",
      "  Downloading plaster-1.0-py2.py3-none-any.whl (14 kB)\n",
      "Collecting venusian>=1.0\n",
      "  Downloading venusian-3.0.0-py3-none-any.whl (13 kB)\n",
      "Collecting PasteDeploy>=2.0\n",
      "  Downloading PasteDeploy-2.1.1-py2.py3-none-any.whl (17 kB)\n",
      "Installing collected packages: plaster, PasteDeploy, zope.deprecation, webob, venusian, translationstring, plaster-pastedeploy, hupper, pyramid\n",
      "Successfully installed PasteDeploy-2.1.1 hupper-1.10.3 plaster-1.0 plaster-pastedeploy-0.7 pyramid-2.0 translationstring-1.4 venusian-3.0.0 webob-1.8.7 zope.deprecation-4.4.0\n",
      "Note: you may need to restart the kernel to use updated packages.\n"
     ]
    },
    {
     "name": "stderr",
     "output_type": "stream",
     "text": [
      "WARNING: You are using pip version 21.0.1; however, version 22.0.4 is available.\n",
      "You should consider upgrading via the 'c:\\users\\ag92031\\appdata\\local\\programs\\python\\python37\\python.exe -m pip install --upgrade pip' command.\n"
     ]
    }
   ],
   "source": [
    "pip install pyramid"
   ]
  },
  {
   "cell_type": "code",
   "execution_count": 5,
   "metadata": {},
   "outputs": [],
   "source": [
    "# pip install pyramid.arima "
   ]
  },
  {
   "cell_type": "code",
   "execution_count": 7,
   "metadata": {},
   "outputs": [
    {
     "name": "stdout",
     "output_type": "stream",
     "text": [
      "Collecting pyramid.arima\n",
      "  Downloading pyramid-arima-0.8.1.tar.gz (515 kB)\n",
      "Requirement already satisfied: Cython>=0.23 in c:\\users\\ag92031\\appdata\\local\\programs\\python\\python37\\lib\\site-packages (from pyramid.arima) (0.29.21)\n",
      "Requirement already satisfied: numpy>=1.10 in c:\\users\\ag92031\\appdata\\local\\programs\\python\\python37\\lib\\site-packages (from pyramid.arima) (1.19.5)\n",
      "Requirement already satisfied: scipy>=0.9 in c:\\users\\ag92031\\appdata\\local\\programs\\python\\python37\\lib\\site-packages (from pyramid.arima) (1.7.3)\n",
      "Requirement already satisfied: scikit-learn>=0.17 in c:\\users\\ag92031\\appdata\\local\\programs\\python\\python37\\lib\\site-packages (from pyramid.arima) (1.0.2)\n",
      "Requirement already satisfied: pandas>=0.19 in c:\\users\\ag92031\\appdata\\local\\programs\\python\\python37\\lib\\site-packages (from pyramid.arima) (1.1.5)\n",
      "Requirement already satisfied: statsmodels>=0.9.0 in c:\\users\\ag92031\\appdata\\local\\programs\\python\\python37\\lib\\site-packages (from pyramid.arima) (0.13.1)\n",
      "Requirement already satisfied: python-dateutil>=2.7.3 in c:\\users\\ag92031\\appdata\\local\\programs\\python\\python37\\lib\\site-packages (from pandas>=0.19->pyramid.arima) (2.8.1)\n",
      "Requirement already satisfied: pytz>=2017.2 in c:\\users\\ag92031\\appdata\\local\\programs\\python\\python37\\lib\\site-packages (from pandas>=0.19->pyramid.arima) (2019.2)\n",
      "Requirement already satisfied: six>=1.5 in c:\\users\\ag92031\\appdata\\local\\programs\\python\\python37\\lib\\site-packages (from python-dateutil>=2.7.3->pandas>=0.19->pyramid.arima) (1.15.0)\n",
      "Requirement already satisfied: joblib>=0.11 in c:\\users\\ag92031\\appdata\\local\\programs\\python\\python37\\lib\\site-packages (from scikit-learn>=0.17->pyramid.arima) (1.0.1)\n",
      "Requirement already satisfied: threadpoolctl>=2.0.0 in c:\\users\\ag92031\\appdata\\local\\programs\\python\\python37\\lib\\site-packages (from scikit-learn>=0.17->pyramid.arima) (2.1.0)\n",
      "Requirement already satisfied: patsy>=0.5.2 in c:\\users\\ag92031\\appdata\\local\\programs\\python\\python37\\lib\\site-packages (from statsmodels>=0.9.0->pyramid.arima) (0.5.2)\n",
      "Building wheels for collected packages: pyramid.arima\n",
      "  Building wheel for pyramid.arima (setup.py): started\n",
      "  Building wheel for pyramid.arima (setup.py): finished with status 'error'\n",
      "  Running setup.py clean for pyramid.arima\n",
      "Failed to build pyramid.arima\n",
      "Installing collected packages: pyramid.arima\n",
      "    Running setup.py install for pyramid.arima: started\n",
      "    Running setup.py install for pyramid.arima: finished with status 'error'\n"
     ]
    },
    {
     "name": "stderr",
     "output_type": "stream",
     "text": [
      "  ERROR: Command errored out with exit status 1:\n",
      "   command: 'c:\\users\\ag92031\\appdata\\local\\programs\\python\\python37\\python.exe' -u -c 'import sys, setuptools, tokenize; sys.argv[0] = '\"'\"'C:\\\\Users\\\\AG92031\\\\AppData\\\\Local\\\\Temp\\\\1\\\\pip-install-iiwy2ake\\\\pyramid-arima_a819c7b3575e4afaaab70e6b4cd89b0b\\\\setup.py'\"'\"'; __file__='\"'\"'C:\\\\Users\\\\AG92031\\\\AppData\\\\Local\\\\Temp\\\\1\\\\pip-install-iiwy2ake\\\\pyramid-arima_a819c7b3575e4afaaab70e6b4cd89b0b\\\\setup.py'\"'\"';f=getattr(tokenize, '\"'\"'open'\"'\"', open)(__file__);code=f.read().replace('\"'\"'\\r\\n'\"'\"', '\"'\"'\\n'\"'\"');f.close();exec(compile(code, __file__, '\"'\"'exec'\"'\"'))' bdist_wheel -d 'C:\\Users\\AG92031\\AppData\\Local\\Temp\\1\\pip-wheel-j3nrfzqh'\n",
      "       cwd: C:\\Users\\AG92031\\AppData\\Local\\Temp\\1\\pip-install-iiwy2ake\\pyramid-arima_a819c7b3575e4afaaab70e6b4cd89b0b\\\n",
      "  Complete output (261 lines):\n",
      "  Partial import of pyramid during the build process.\n",
      "  Requirements: ['Cython>=0.23\\nnumpy>=1.10\\nscipy>=0.9\\nscikit-learn>=0.17\\npandas>=0.19\\nstatsmodels>=0.9.0\\n']\n",
      "  Adding extra setuptools args\n",
      "  c:\\users\\ag92031\\appdata\\local\\programs\\python\\python37\\lib\\site-packages\\setuptools\\dist.py:645: UserWarning: Usage of dash-separated 'description-file' will not be supported in future versions. Please use the underscore name 'description_file' instead\n",
      "    % (opt, underscore_opt))\n",
      "  blas_opt_info:\n",
      "  blas_mkl_info:\n",
      "  No module named 'numpy.distutils._msvccompiler' in numpy.distutils; trying from distutils\n",
      "  customize MSVCCompiler\n",
      "    libraries mkl_rt not found in ['c:\\\\users\\\\ag92031\\\\appdata\\\\local\\\\programs\\\\python\\\\python37\\\\lib', 'C:\\\\', 'c:\\\\users\\\\ag92031\\\\appdata\\\\local\\\\programs\\\\python\\\\python37\\\\libs', 'C:\\\\Users\\\\AG92031\\\\AppData\\\\Local\\\\Programs\\\\Python\\\\Python37\\\\Library\\\\lib']\n",
      "    NOT AVAILABLE\n",
      "  \n",
      "  blis_info:\n",
      "    libraries blis not found in ['c:\\\\users\\\\ag92031\\\\appdata\\\\local\\\\programs\\\\python\\\\python37\\\\lib', 'C:\\\\', 'c:\\\\users\\\\ag92031\\\\appdata\\\\local\\\\programs\\\\python\\\\python37\\\\libs', 'C:\\\\Users\\\\AG92031\\\\AppData\\\\Local\\\\Programs\\\\Python\\\\Python37\\\\Library\\\\lib']\n",
      "    NOT AVAILABLE\n",
      "  \n",
      "  openblas_info:\n",
      "    libraries openblas not found in ['c:\\\\users\\\\ag92031\\\\appdata\\\\local\\\\programs\\\\python\\\\python37\\\\lib', 'C:\\\\', 'c:\\\\users\\\\ag92031\\\\appdata\\\\local\\\\programs\\\\python\\\\python37\\\\libs', 'C:\\\\Users\\\\AG92031\\\\AppData\\\\Local\\\\Programs\\\\Python\\\\Python37\\\\Library\\\\lib']\n",
      "  get_default_fcompiler: matching types: '['gnu', 'intelv', 'absoft', 'compaqv', 'intelev', 'gnu95', 'g95', 'intelvem', 'intelem', 'flang']'\n",
      "  customize GnuFCompiler\n",
      "  Could not locate executable g77\n",
      "  Could not locate executable f77\n",
      "  customize IntelVisualFCompiler\n",
      "  Could not locate executable ifort\n",
      "  Could not locate executable ifl\n",
      "  customize AbsoftFCompiler\n",
      "  Could not locate executable f90\n",
      "  customize CompaqVisualFCompiler\n",
      "  Could not locate executable DF\n",
      "  customize IntelItaniumVisualFCompiler\n",
      "  Could not locate executable efl\n",
      "  customize Gnu95FCompiler\n",
      "  Could not locate executable gfortran\n",
      "  Could not locate executable f95\n",
      "  customize G95FCompiler\n",
      "  Could not locate executable g95\n",
      "  customize IntelEM64VisualFCompiler\n",
      "  customize IntelEM64TFCompiler\n",
      "  Could not locate executable efort\n",
      "  Could not locate executable efc\n",
      "  customize PGroupFlangCompiler\n",
      "  Could not locate executable flang\n",
      "  don't know how to compile Fortran code on platform 'nt'\n",
      "    NOT AVAILABLE\n",
      "  \n",
      "  atlas_3_10_blas_threads_info:\n",
      "  Setting PTATLAS=ATLAS\n",
      "    libraries tatlas not found in ['c:\\\\users\\\\ag92031\\\\appdata\\\\local\\\\programs\\\\python\\\\python37\\\\lib', 'C:\\\\', 'c:\\\\users\\\\ag92031\\\\appdata\\\\local\\\\programs\\\\python\\\\python37\\\\libs', 'C:\\\\Users\\\\AG92031\\\\AppData\\\\Local\\\\Programs\\\\Python\\\\Python37\\\\Library\\\\lib']\n",
      "    NOT AVAILABLE\n",
      "  \n",
      "  atlas_3_10_blas_info:\n",
      "    libraries satlas not found in ['c:\\\\users\\\\ag92031\\\\appdata\\\\local\\\\programs\\\\python\\\\python37\\\\lib', 'C:\\\\', 'c:\\\\users\\\\ag92031\\\\appdata\\\\local\\\\programs\\\\python\\\\python37\\\\libs', 'C:\\\\Users\\\\AG92031\\\\AppData\\\\Local\\\\Programs\\\\Python\\\\Python37\\\\Library\\\\lib']\n",
      "    NOT AVAILABLE\n",
      "  \n",
      "  atlas_blas_threads_info:\n",
      "  Setting PTATLAS=ATLAS\n",
      "    libraries ptf77blas,ptcblas,atlas not found in ['c:\\\\users\\\\ag92031\\\\appdata\\\\local\\\\programs\\\\python\\\\python37\\\\lib', 'C:\\\\', 'c:\\\\users\\\\ag92031\\\\appdata\\\\local\\\\programs\\\\python\\\\python37\\\\libs', 'C:\\\\Users\\\\AG92031\\\\AppData\\\\Local\\\\Programs\\\\Python\\\\Python37\\\\Library\\\\lib']\n",
      "    NOT AVAILABLE\n",
      "  \n",
      "  atlas_blas_info:\n",
      "    libraries f77blas,cblas,atlas not found in ['c:\\\\users\\\\ag92031\\\\appdata\\\\local\\\\programs\\\\python\\\\python37\\\\lib', 'C:\\\\', 'c:\\\\users\\\\ag92031\\\\appdata\\\\local\\\\programs\\\\python\\\\python37\\\\libs', 'C:\\\\Users\\\\AG92031\\\\AppData\\\\Local\\\\Programs\\\\Python\\\\Python37\\\\Library\\\\lib']\n",
      "    NOT AVAILABLE\n",
      "  \n",
      "  accelerate_info:\n",
      "    NOT AVAILABLE\n",
      "  \n",
      "  c:\\users\\ag92031\\appdata\\local\\programs\\python\\python37\\lib\\site-packages\\numpy\\distutils\\system_info.py:1914: UserWarning:\n",
      "      Optimized (vendor) Blas libraries are not found.\n",
      "      Falls back to netlib Blas library which has worse performance.\n",
      "      A better performance should be easily gained by switching\n",
      "      Blas library.\n",
      "    if self._calc_info(blas):\n",
      "  blas_info:\n",
      "    libraries blas not found in ['c:\\\\users\\\\ag92031\\\\appdata\\\\local\\\\programs\\\\python\\\\python37\\\\lib', 'C:\\\\', 'c:\\\\users\\\\ag92031\\\\appdata\\\\local\\\\programs\\\\python\\\\python37\\\\libs', 'C:\\\\Users\\\\AG92031\\\\AppData\\\\Local\\\\Programs\\\\Python\\\\Python37\\\\Library\\\\lib']\n",
      "    NOT AVAILABLE\n",
      "  \n",
      "  c:\\users\\ag92031\\appdata\\local\\programs\\python\\python37\\lib\\site-packages\\numpy\\distutils\\system_info.py:1914: UserWarning:\n",
      "      Blas (http://www.netlib.org/blas/) libraries not found.\n",
      "      Directories to search for the libraries can be specified in the\n",
      "      numpy/distutils/site.cfg file (section [blas]) or by setting\n",
      "      the BLAS environment variable.\n",
      "    if self._calc_info(blas):\n",
      "  blas_src_info:\n",
      "    NOT AVAILABLE\n",
      "  \n",
      "  c:\\users\\ag92031\\appdata\\local\\programs\\python\\python37\\lib\\site-packages\\numpy\\distutils\\system_info.py:1914: UserWarning:\n",
      "      Blas (http://www.netlib.org/blas/) sources not found.\n",
      "      Directories to search for the sources can be specified in the\n",
      "      numpy/distutils/site.cfg file (section [blas_src]) or by setting\n",
      "      the BLAS_SRC environment variable.\n",
      "    if self._calc_info(blas):\n",
      "    NOT AVAILABLE\n",
      "  \n",
      "  running bdist_wheel\n",
      "  running build\n",
      "  running config_cc\n",
      "  unifing config_cc, config, build_clib, build_ext, build commands --compiler options\n",
      "  running config_fc\n",
      "  unifing config_fc, config, build_clib, build_ext, build commands --fcompiler options\n",
      "  running build_src\n",
      "  build_src\n",
      "  building extension \"pyramid.__check_build._check_build\" sources\n",
      "  building extension \"pyramid.arima._arima\" sources\n",
      "  build_src: building npy-pkg config files\n",
      "  running build_py\n",
      "  creating build\n",
      "  creating build\\lib.win-amd64-3.7\n",
      "  creating build\\lib.win-amd64-3.7\\pyramid\n",
      "  copying pyramid\\setup.py -> build\\lib.win-amd64-3.7\\pyramid\n",
      "  copying pyramid\\_config.py -> build\\lib.win-amd64-3.7\\pyramid\n",
      "  copying pyramid\\__init__.py -> build\\lib.win-amd64-3.7\\pyramid\n",
      "  creating build\\lib.win-amd64-3.7\\pyramid\\__check_build\n",
      "  copying pyramid\\__check_build\\setup.py -> build\\lib.win-amd64-3.7\\pyramid\\__check_build\n",
      "  copying pyramid\\__check_build\\__init__.py -> build\\lib.win-amd64-3.7\\pyramid\\__check_build\n",
      "  creating build\\lib.win-amd64-3.7\\pyramid\\__check_build\\tests\n",
      "  copying pyramid\\__check_build\\tests\\test_check_build.py -> build\\lib.win-amd64-3.7\\pyramid\\__check_build/tests\n",
      "  copying pyramid\\__check_build\\tests\\__init__.py -> build\\lib.win-amd64-3.7\\pyramid\\__check_build/tests\n",
      "  creating build\\lib.win-amd64-3.7\\pyramid\\_build_utils\n",
      "  copying pyramid\\_build_utils\\__init__.py -> build\\lib.win-amd64-3.7\\pyramid\\_build_utils\n",
      "  creating build\\lib.win-amd64-3.7\\pyramid\\_build_utils\\tests\n",
      "  copying pyramid\\_build_utils\\tests\\__init__.py -> build\\lib.win-amd64-3.7\\pyramid\\_build_utils/tests\n",
      "  creating build\\lib.win-amd64-3.7\\pyramid\\compat\n",
      "  copying pyramid\\compat\\matplotlib.py -> build\\lib.win-amd64-3.7\\pyramid\\compat\n",
      "  copying pyramid\\compat\\numpy.py -> build\\lib.win-amd64-3.7\\pyramid\\compat\n",
      "  copying pyramid\\compat\\pandas.py -> build\\lib.win-amd64-3.7\\pyramid\\compat\n",
      "  copying pyramid\\compat\\python.py -> build\\lib.win-amd64-3.7\\pyramid\\compat\n",
      "  copying pyramid\\compat\\__init__.py -> build\\lib.win-amd64-3.7\\pyramid\\compat\n",
      "  creating build\\lib.win-amd64-3.7\\pyramid\\compat\\tests\n",
      "  copying pyramid\\compat\\tests\\test_compat.py -> build\\lib.win-amd64-3.7\\pyramid\\compat/tests\n",
      "  copying pyramid\\compat\\tests\\__init__.py -> build\\lib.win-amd64-3.7\\pyramid\\compat/tests\n",
      "  creating build\\lib.win-amd64-3.7\\pyramid\\datasets\n",
      "  copying pyramid\\datasets\\heartrate.py -> build\\lib.win-amd64-3.7\\pyramid\\datasets\n",
      "  copying pyramid\\datasets\\lynx.py -> build\\lib.win-amd64-3.7\\pyramid\\datasets\n",
      "  copying pyramid\\datasets\\wineind.py -> build\\lib.win-amd64-3.7\\pyramid\\datasets\n",
      "  copying pyramid\\datasets\\woolyrnq.py -> build\\lib.win-amd64-3.7\\pyramid\\datasets\n",
      "  copying pyramid\\datasets\\__init__.py -> build\\lib.win-amd64-3.7\\pyramid\\datasets\n",
      "  creating build\\lib.win-amd64-3.7\\pyramid\\utils\n",
      "  copying pyramid\\utils\\array.py -> build\\lib.win-amd64-3.7\\pyramid\\utils\n",
      "  copying pyramid\\utils\\metaestimators.py -> build\\lib.win-amd64-3.7\\pyramid\\utils\n",
      "  copying pyramid\\utils\\testing.py -> build\\lib.win-amd64-3.7\\pyramid\\utils\n",
      "  copying pyramid\\utils\\visualization.py -> build\\lib.win-amd64-3.7\\pyramid\\utils\n",
      "  copying pyramid\\utils\\wrapped.py -> build\\lib.win-amd64-3.7\\pyramid\\utils\n",
      "  copying pyramid\\utils\\__init__.py -> build\\lib.win-amd64-3.7\\pyramid\\utils\n",
      "  creating build\\lib.win-amd64-3.7\\pyramid\\utils\\tests\n",
      "  copying pyramid\\utils\\tests\\test_array.py -> build\\lib.win-amd64-3.7\\pyramid\\utils/tests\n",
      "  copying pyramid\\utils\\tests\\test_meta.py -> build\\lib.win-amd64-3.7\\pyramid\\utils/tests\n",
      "  copying pyramid\\utils\\tests\\test_testing.py -> build\\lib.win-amd64-3.7\\pyramid\\utils/tests\n",
      "  copying pyramid\\utils\\tests\\test_vis.py -> build\\lib.win-amd64-3.7\\pyramid\\utils/tests\n",
      "  copying pyramid\\utils\\tests\\test_wrapped.py -> build\\lib.win-amd64-3.7\\pyramid\\utils/tests\n",
      "  copying pyramid\\utils\\tests\\__init__.py -> build\\lib.win-amd64-3.7\\pyramid\\utils/tests\n",
      "  creating build\\lib.win-amd64-3.7\\pyramid\\arima\n",
      "  copying pyramid\\arima\\approx.py -> build\\lib.win-amd64-3.7\\pyramid\\arima\n",
      "  copying pyramid\\arima\\arima.py -> build\\lib.win-amd64-3.7\\pyramid\\arima\n",
      "  copying pyramid\\arima\\auto.py -> build\\lib.win-amd64-3.7\\pyramid\\arima\n",
      "  copying pyramid\\arima\\seasonality.py -> build\\lib.win-amd64-3.7\\pyramid\\arima\n",
      "  copying pyramid\\arima\\setup.py -> build\\lib.win-amd64-3.7\\pyramid\\arima\n",
      "  copying pyramid\\arima\\stationarity.py -> build\\lib.win-amd64-3.7\\pyramid\\arima\n",
      "  copying pyramid\\arima\\utils.py -> build\\lib.win-amd64-3.7\\pyramid\\arima\n",
      "  copying pyramid\\arima\\warnings.py -> build\\lib.win-amd64-3.7\\pyramid\\arima\n",
      "  copying pyramid\\arima\\__init__.py -> build\\lib.win-amd64-3.7\\pyramid\\arima\n",
      "  creating build\\lib.win-amd64-3.7\\pyramid\\arima\\tests\n",
      "  copying pyramid\\arima\\tests\\test_approx.py -> build\\lib.win-amd64-3.7\\pyramid\\arima\\tests\n",
      "  copying pyramid\\arima\\tests\\test_arima.py -> build\\lib.win-amd64-3.7\\pyramid\\arima\\tests\n",
      "  copying pyramid\\arima\\tests\\test_c_arima.py -> build\\lib.win-amd64-3.7\\pyramid\\arima\\tests\n",
      "  copying pyramid\\arima\\tests\\test_stationarity.py -> build\\lib.win-amd64-3.7\\pyramid\\arima\\tests\n",
      "  copying pyramid\\arima\\tests\\__init__.py -> build\\lib.win-amd64-3.7\\pyramid\\arima\\tests\n",
      "  running build_ext\n",
      "  No module named 'numpy.distutils._msvccompiler' in numpy.distutils; trying from distutils\n",
      "  customize MSVCCompiler\n",
      "  customize MSVCCompiler using build_ext\n",
      "  building 'pyramid.__check_build._check_build' extension\n",
      "  compiling C sources\n",
      "  creating build\\temp.win-amd64-3.7\\Release\\pyramid\n",
      "  creating build\\temp.win-amd64-3.7\\Release\\pyramid\\__check_build\n",
      "  C:\\Program Files (x86)\\Microsoft Visual Studio\\2019\\BuildTools\\VC\\Tools\\MSVC\\14.29.30133\\bin\\HostX86\\x64\\cl.exe /c /nologo /Ox /W3 /GL /DNDEBUG /MD -Ic:\\users\\ag92031\\appdata\\local\\programs\\python\\python37\\lib\\site-packages\\numpy\\core\\include -Ic:\\users\\ag92031\\appdata\\local\\programs\\python\\python37\\lib\\site-packages\\numpy\\core\\include -Ic:\\users\\ag92031\\appdata\\local\\programs\\python\\python37\\include -Ic:\\users\\ag92031\\appdata\\local\\programs\\python\\python37\\include -IC:\\Program Files (x86)\\Microsoft Visual Studio\\2019\\BuildTools\\VC\\Tools\\MSVC\\14.29.30133\\include -IC:\\Program Files (x86)\\Windows Kits\\10\\include\\10.0.19041.0\\ucrt -IC:\\Program Files (x86)\\Windows Kits\\10\\include\\10.0.19041.0\\shared -IC:\\Program Files (x86)\\Windows Kits\\10\\include\\10.0.19041.0\\um -IC:\\Program Files (x86)\\Windows Kits\\10\\include\\10.0.19041.0\\winrt -IC:\\Program Files (x86)\\Windows Kits\\10\\include\\10.0.19041.0\\cppwinrt /Tcpyramid\\__check_build\\_check_build.c /Fobuild\\temp.win-amd64-3.7\\Release\\pyramid\\__check_build\\_check_build.obj\n",
      "  C:\\Program Files (x86)\\Microsoft Visual Studio\\2019\\BuildTools\\VC\\Tools\\MSVC\\14.29.30133\\bin\\HostX86\\x64\\link.exe /nologo /INCREMENTAL:NO /LTCG /DLL /MANIFEST:EMBED,ID=2 /MANIFESTUAC:NO /LIBPATH:c:\\users\\ag92031\\appdata\\local\\programs\\python\\python37\\libs /LIBPATH:c:\\users\\ag92031\\appdata\\local\\programs\\python\\python37\\PCbuild\\amd64 /LIBPATH:C:\\Program Files (x86)\\Microsoft Visual Studio\\2019\\BuildTools\\VC\\Tools\\MSVC\\14.29.30133\\lib\\x64 /LIBPATH:C:\\Program Files (x86)\\Windows Kits\\10\\lib\\10.0.19041.0\\ucrt\\x64 /LIBPATH:C:\\Program Files (x86)\\Windows Kits\\10\\lib\\10.0.19041.0\\um\\x64 /EXPORT:PyInit__check_build build\\temp.win-amd64-3.7\\Release\\pyramid\\__check_build\\_check_build.obj /OUT:build\\lib.win-amd64-3.7\\pyramid\\__check_build\\_check_build.cp37-win_amd64.pyd /IMPLIB:build\\temp.win-amd64-3.7\\Release\\pyramid\\__check_build\\_check_build.cp37-win_amd64.lib\n",
      "  building 'pyramid.arima._arima' extension\n",
      "  compiling C sources\n",
      "  creating build\\temp.win-amd64-3.7\\Release\\pyramid\\arima\n",
      "  C:\\Program Files (x86)\\Microsoft Visual Studio\\2019\\BuildTools\\VC\\Tools\\MSVC\\14.29.30133\\bin\\HostX86\\x64\\cl.exe /c /nologo /Ox /W3 /GL /DNDEBUG /MD -Ic:\\users\\ag92031\\appdata\\local\\programs\\python\\python37\\lib\\site-packages\\numpy\\core\\include -Ipyramid\\arima\\_arima_fast_helpers.h -Ic:\\users\\ag92031\\appdata\\local\\programs\\python\\python37\\lib\\site-packages\\numpy\\core\\include -Ic:\\users\\ag92031\\appdata\\local\\programs\\python\\python37\\include -Ic:\\users\\ag92031\\appdata\\local\\programs\\python\\python37\\include -IC:\\Program Files (x86)\\Microsoft Visual Studio\\2019\\BuildTools\\VC\\Tools\\MSVC\\14.29.30133\\include -IC:\\Program Files (x86)\\Windows Kits\\10\\include\\10.0.19041.0\\ucrt -IC:\\Program Files (x86)\\Windows Kits\\10\\include\\10.0.19041.0\\shared -IC:\\Program Files (x86)\\Windows Kits\\10\\include\\10.0.19041.0\\um -IC:\\Program Files (x86)\\Windows Kits\\10\\include\\10.0.19041.0\\winrt -IC:\\Program Files (x86)\\Windows Kits\\10\\include\\10.0.19041.0\\cppwinrt /Tcpyramid\\arima\\_arima.c /Fobuild\\temp.win-amd64-3.7\\Release\\pyramid\\arima\\_arima.obj\n",
      "  _arima.c\n",
      "  c:\\users\\ag92031\\appdata\\local\\programs\\python\\python37\\lib\\site-packages\\numpy\\core\\include\\numpy\\npy_1_7_deprecated_api.h(14) : Warning Msg: Using deprecated NumPy API, disable it with #define NPY_NO_DEPRECATED_API NPY_1_7_API_VERSION\n",
      "  pyramid\\arima\\_arima.c(2735): warning C4244: '=': conversion from 'long' to 'char', possible loss of data\n",
      "  pyramid\\arima\\_arima.c(3162): warning C4244: '=': conversion from '__pyx_t_7pyramid_5arima_6_arima_INTP' to 'long', possible loss of data\n",
      "  pyramid\\arima\\_arima.c(3388): warning C4244: '=': conversion from '__pyx_t_7pyramid_5arima_6_arima_INTP' to 'long', possible loss of data\n",
      "  pyramid\\arima\\_arima.c(4573): warning C4244: '=': conversion from 'long' to 'char', possible loss of data\n",
      "  pyramid\\arima\\_arima.c(5161): warning C4244: 'function': conversion from '__pyx_t_7pyramid_5arima_6_arima_INTP' to 'int', possible loss of data\n",
      "  pyramid\\arima\\_arima.c(5161): warning C4244: 'function': conversion from '__pyx_t_7pyramid_5arima_6_arima_INTP' to 'int', possible loss of data\n",
      "  pyramid\\arima\\_arima.c(5161): warning C4244: 'function': conversion from '__pyx_t_7pyramid_5arima_6_arima_INTP' to 'double', possible loss of data\n",
      "  pyramid\\arima\\_arima.c(5161): warning C4244: 'function': conversion from '__pyx_t_7pyramid_5arima_6_arima_INTP' to 'double', possible loss of data\n",
      "  pyramid\\arima\\_arima.c(5502): warning C4244: 'function': conversion from '__pyx_t_7pyramid_5arima_6_arima_INTP' to 'int', possible loss of data\n",
      "  pyramid\\arima\\_arima.c(5502): warning C4244: 'function': conversion from '__pyx_t_7pyramid_5arima_6_arima_INTP' to 'int', possible loss of data\n",
      "  pyramid\\arima\\_arima.c(5502): warning C4244: 'function': conversion from '__pyx_t_7pyramid_5arima_6_arima_INTP' to 'double', possible loss of data\n",
      "  pyramid\\arima\\_arima.c(5502): warning C4244: 'function': conversion from '__pyx_t_7pyramid_5arima_6_arima_INTP' to 'double', possible loss of data\n",
      "  pyramid\\arima\\_arima.c(5887): warning C4244: '=': conversion from 'long' to 'char', possible loss of data\n",
      "  pyramid\\arima\\_arima.c(6106): warning C4244: '=': conversion from 'long' to 'char', possible loss of data\n",
      "  pyramid\\arima\\_arima.c(6515): warning C4244: '=': conversion from 'Py_ssize_t' to 'int', possible loss of data\n",
      "  pyramid\\arima\\_arima.c(6708): warning C4244: '=': conversion from 'Py_ssize_t' to 'int', possible loss of data\n",
      "  pyramid\\arima\\_arima.c(6901): warning C4244: '=': conversion from 'Py_ssize_t' to 'int', possible loss of data\n",
      "  pyramid\\arima\\_arima.c(7094): warning C4244: '=': conversion from 'Py_ssize_t' to 'int', possible loss of data\n",
      "  pyramid\\arima\\_arima.c(7522): warning C4244: '=': conversion from 'long' to 'char', possible loss of data\n",
      "  pyramid\\arima\\_arima.c(7741): warning C4244: '=': conversion from 'long' to 'char', possible loss of data\n",
      "  pyramid\\arima\\_arima.c(8239): warning C4244: 'function': conversion from '__pyx_t_7pyramid_5arima_6_arima_INTP' to 'long', possible loss of data\n",
      "  pyramid\\arima\\_arima.c(8292): warning C4244: 'function': conversion from '__pyx_t_7pyramid_5arima_6_arima_INTP' to 'long', possible loss of data\n",
      "  pyramid\\arima\\_arima.c(8469): warning C4244: '=': conversion from '__pyx_t_7pyramid_5arima_6_arima_INTP' to 'long', possible loss of data\n",
      "  pyramid\\arima\\_arima.c(8533): warning C4244: 'function': conversion from '__pyx_t_7pyramid_5arima_6_arima_INTP' to 'long', possible loss of data\n",
      "  pyramid\\arima\\_arima.c(8827): warning C4244: 'function': conversion from '__pyx_t_7pyramid_5arima_6_arima_INTP' to 'long', possible loss of data\n",
      "  pyramid\\arima\\_arima.c(8880): warning C4244: 'function': conversion from '__pyx_t_7pyramid_5arima_6_arima_INTP' to 'long', possible loss of data\n",
      "  pyramid\\arima\\_arima.c(9057): warning C4244: '=': conversion from '__pyx_t_7pyramid_5arima_6_arima_INTP' to 'long', possible loss of data\n",
      "  pyramid\\arima\\_arima.c(9121): warning C4244: 'function': conversion from '__pyx_t_7pyramid_5arima_6_arima_INTP' to 'long', possible loss of data\n",
      "  pyramid\\arima\\_arima.c(9415): warning C4244: 'function': conversion from '__pyx_t_7pyramid_5arima_6_arima_INTP' to 'long', possible loss of data\n",
      "  pyramid\\arima\\_arima.c(9468): warning C4244: 'function': conversion from '__pyx_t_7pyramid_5arima_6_arima_INTP' to 'long', possible loss of data\n",
      "  pyramid\\arima\\_arima.c(9645): warning C4244: '=': conversion from '__pyx_t_7pyramid_5arima_6_arima_INTP' to 'long', possible loss of data\n",
      "  pyramid\\arima\\_arima.c(9709): warning C4244: 'function': conversion from '__pyx_t_7pyramid_5arima_6_arima_INTP' to 'long', possible loss of data\n",
      "  pyramid\\arima\\_arima.c(10003): warning C4244: 'function': conversion from '__pyx_t_7pyramid_5arima_6_arima_INTP' to 'long', possible loss of data\n",
      "  pyramid\\arima\\_arima.c(10056): warning C4244: 'function': conversion from '__pyx_t_7pyramid_5arima_6_arima_INTP' to 'long', possible loss of data\n",
      "  pyramid\\arima\\_arima.c(10233): warning C4244: '=': conversion from '__pyx_t_7pyramid_5arima_6_arima_INTP' to 'long', possible loss of data\n",
      "  pyramid\\arima\\_arima.c(10297): warning C4244: 'function': conversion from '__pyx_t_7pyramid_5arima_6_arima_INTP' to 'long', possible loss of data\n",
      "  pyramid\\arima\\_arima.c(26129): error C2039: 'exc_type': is not a member of '_ts'\n",
      "  c:\\users\\ag92031\\appdata\\local\\programs\\python\\python37\\include\\pystate.h(209): note: see declaration of '_ts'\n",
      "  pyramid\\arima\\_arima.c(26130): error C2039: 'exc_value': is not a member of '_ts'\n",
      "  c:\\users\\ag92031\\appdata\\local\\programs\\python\\python37\\include\\pystate.h(209): note: see declaration of '_ts'\n",
      "  pyramid\\arima\\_arima.c(26131): error C2039: 'exc_traceback': is not a member of '_ts'\n",
      "  c:\\users\\ag92031\\appdata\\local\\programs\\python\\python37\\include\\pystate.h(209): note: see declaration of '_ts'\n",
      "  pyramid\\arima\\_arima.c(26138): error C2039: 'exc_type': is not a member of '_ts'\n",
      "  c:\\users\\ag92031\\appdata\\local\\programs\\python\\python37\\include\\pystate.h(209): note: see declaration of '_ts'\n",
      "  pyramid\\arima\\_arima.c(26139): error C2039: 'exc_value': is not a member of '_ts'\n",
      "  c:\\users\\ag92031\\appdata\\local\\programs\\python\\python37\\include\\pystate.h(209): note: see declaration of '_ts'\n",
      "  pyramid\\arima\\_arima.c(26140): error C2039: 'exc_traceback': is not a member of '_ts'\n",
      "  c:\\users\\ag92031\\appdata\\local\\programs\\python\\python37\\include\\pystate.h(209): note: see declaration of '_ts'\n",
      "  pyramid\\arima\\_arima.c(26141): error C2039: 'exc_type': is not a member of '_ts'\n",
      "  c:\\users\\ag92031\\appdata\\local\\programs\\python\\python37\\include\\pystate.h(209): note: see declaration of '_ts'\n",
      "  pyramid\\arima\\_arima.c(26142): error C2039: 'exc_value': is not a member of '_ts'\n",
      "  c:\\users\\ag92031\\appdata\\local\\programs\\python\\python37\\include\\pystate.h(209): note: see declaration of '_ts'\n",
      "  pyramid\\arima\\_arima.c(26143): error C2039: 'exc_traceback': is not a member of '_ts'\n",
      "  c:\\users\\ag92031\\appdata\\local\\programs\\python\\python37\\include\\pystate.h(209): note: see declaration of '_ts'\n",
      "  pyramid\\arima\\_arima.c(26198): error C2039: 'exc_type': is not a member of '_ts'\n",
      "  c:\\users\\ag92031\\appdata\\local\\programs\\python\\python37\\include\\pystate.h(209): note: see declaration of '_ts'\n",
      "  pyramid\\arima\\_arima.c(26199): error C2039: 'exc_value': is not a member of '_ts'\n",
      "  c:\\users\\ag92031\\appdata\\local\\programs\\python\\python37\\include\\pystate.h(209): note: see declaration of '_ts'\n",
      "  pyramid\\arima\\_arima.c(26200): error C2039: 'exc_traceback': is not a member of '_ts'\n",
      "  c:\\users\\ag92031\\appdata\\local\\programs\\python\\python37\\include\\pystate.h(209): note: see declaration of '_ts'\n",
      "  pyramid\\arima\\_arima.c(26201): error C2039: 'exc_type': is not a member of '_ts'\n",
      "  c:\\users\\ag92031\\appdata\\local\\programs\\python\\python37\\include\\pystate.h(209): note: see declaration of '_ts'\n",
      "  pyramid\\arima\\_arima.c(26202): error C2039: 'exc_value': is not a member of '_ts'\n",
      "  c:\\users\\ag92031\\appdata\\local\\programs\\python\\python37\\include\\pystate.h(209): note: see declaration of '_ts'\n",
      "  pyramid\\arima\\_arima.c(26203): error C2039: 'exc_traceback': is not a member of '_ts'\n",
      "  c:\\users\\ag92031\\appdata\\local\\programs\\python\\python37\\include\\pystate.h(209): note: see declaration of '_ts'\n",
      "  pyramid\\arima\\_arima.c(27811): error C2039: 'exc_type': is not a member of '_ts'\n",
      "  c:\\users\\ag92031\\appdata\\local\\programs\\python\\python37\\include\\pystate.h(209): note: see declaration of '_ts'\n",
      "  pyramid\\arima\\_arima.c(27812): error C2039: 'exc_value': is not a member of '_ts'\n",
      "  c:\\users\\ag92031\\appdata\\local\\programs\\python\\python37\\include\\pystate.h(209): note: see declaration of '_ts'\n",
      "  pyramid\\arima\\_arima.c(27813): error C2039: 'exc_traceback': is not a member of '_ts'\n",
      "  c:\\users\\ag92031\\appdata\\local\\programs\\python\\python37\\include\\pystate.h(209): note: see declaration of '_ts'\n",
      "  pyramid\\arima\\_arima.c(27814): error C2039: 'exc_type': is not a member of '_ts'\n",
      "  c:\\users\\ag92031\\appdata\\local\\programs\\python\\python37\\include\\pystate.h(209): note: see declaration of '_ts'\n",
      "  pyramid\\arima\\_arima.c(27815): error C2039: 'exc_value': is not a member of '_ts'\n",
      "  c:\\users\\ag92031\\appdata\\local\\programs\\python\\python37\\include\\pystate.h(209): note: see declaration of '_ts'\n",
      "  pyramid\\arima\\_arima.c(27816): error C2039: 'exc_traceback': is not a member of '_ts'\n",
      "  c:\\users\\ag92031\\appdata\\local\\programs\\python\\python37\\include\\pystate.h(209): note: see declaration of '_ts'\n",
      "  error: Command \"C:\\Program Files (x86)\\Microsoft Visual Studio\\2019\\BuildTools\\VC\\Tools\\MSVC\\14.29.30133\\bin\\HostX86\\x64\\cl.exe /c /nologo /Ox /W3 /GL /DNDEBUG /MD -Ic:\\users\\ag92031\\appdata\\local\\programs\\python\\python37\\lib\\site-packages\\numpy\\core\\include -Ipyramid\\arima\\_arima_fast_helpers.h -Ic:\\users\\ag92031\\appdata\\local\\programs\\python\\python37\\lib\\site-packages\\numpy\\core\\include -Ic:\\users\\ag92031\\appdata\\local\\programs\\python\\python37\\include -Ic:\\users\\ag92031\\appdata\\local\\programs\\python\\python37\\include -IC:\\Program Files (x86)\\Microsoft Visual Studio\\2019\\BuildTools\\VC\\Tools\\MSVC\\14.29.30133\\include -IC:\\Program Files (x86)\\Windows Kits\\10\\include\\10.0.19041.0\\ucrt -IC:\\Program Files (x86)\\Windows Kits\\10\\include\\10.0.19041.0\\shared -IC:\\Program Files (x86)\\Windows Kits\\10\\include\\10.0.19041.0\\um -IC:\\Program Files (x86)\\Windows Kits\\10\\include\\10.0.19041.0\\winrt -IC:\\Program Files (x86)\\Windows Kits\\10\\include\\10.0.19041.0\\cppwinrt /Tcpyramid\\arima\\_arima.c /Fobuild\\temp.win-amd64-3.7\\Release\\pyramid\\arima\\_arima.obj\" failed with exit status 2\n",
      "  ----------------------------------------\n",
      "  ERROR: Failed building wheel for pyramid.arima\n",
      "    ERROR: Command errored out with exit status 1:\n",
      "     command: 'c:\\users\\ag92031\\appdata\\local\\programs\\python\\python37\\python.exe' -u -c 'import sys, setuptools, tokenize; sys.argv[0] = '\"'\"'C:\\\\Users\\\\AG92031\\\\AppData\\\\Local\\\\Temp\\\\1\\\\pip-install-iiwy2ake\\\\pyramid-arima_a819c7b3575e4afaaab70e6b4cd89b0b\\\\setup.py'\"'\"'; __file__='\"'\"'C:\\\\Users\\\\AG92031\\\\AppData\\\\Local\\\\Temp\\\\1\\\\pip-install-iiwy2ake\\\\pyramid-arima_a819c7b3575e4afaaab70e6b4cd89b0b\\\\setup.py'\"'\"';f=getattr(tokenize, '\"'\"'open'\"'\"', open)(__file__);code=f.read().replace('\"'\"'\\r\\n'\"'\"', '\"'\"'\\n'\"'\"');f.close();exec(compile(code, __file__, '\"'\"'exec'\"'\"'))' install --record 'C:\\Users\\AG92031\\AppData\\Local\\Temp\\1\\pip-record-81e93nk8\\install-record.txt' --single-version-externally-managed --compile --install-headers 'c:\\users\\ag92031\\appdata\\local\\programs\\python\\python37\\Include\\pyramid.arima'\n",
      "         cwd: C:\\Users\\AG92031\\AppData\\Local\\Temp\\1\\pip-install-iiwy2ake\\pyramid-arima_a819c7b3575e4afaaab70e6b4cd89b0b\\\n",
      "    Complete output (261 lines):\n",
      "    Partial import of pyramid during the build process.\n",
      "    Requirements: ['Cython>=0.23\\nnumpy>=1.10\\nscipy>=0.9\\nscikit-learn>=0.17\\npandas>=0.19\\nstatsmodels>=0.9.0\\n']\n",
      "    Adding extra setuptools args\n",
      "    c:\\users\\ag92031\\appdata\\local\\programs\\python\\python37\\lib\\site-packages\\setuptools\\dist.py:645: UserWarning: Usage of dash-separated 'description-file' will not be supported in future versions. Please use the underscore name 'description_file' instead\n",
      "      % (opt, underscore_opt))\n",
      "    blas_opt_info:\n",
      "    blas_mkl_info:\n",
      "    No module named 'numpy.distutils._msvccompiler' in numpy.distutils; trying from distutils\n",
      "    customize MSVCCompiler\n",
      "      libraries mkl_rt not found in ['c:\\\\users\\\\ag92031\\\\appdata\\\\local\\\\programs\\\\python\\\\python37\\\\lib', 'C:\\\\', 'c:\\\\users\\\\ag92031\\\\appdata\\\\local\\\\programs\\\\python\\\\python37\\\\libs', 'C:\\\\Users\\\\AG92031\\\\AppData\\\\Local\\\\Programs\\\\Python\\\\Python37\\\\Library\\\\lib']\n",
      "      NOT AVAILABLE\n",
      "    \n",
      "    blis_info:\n",
      "      libraries blis not found in ['c:\\\\users\\\\ag92031\\\\appdata\\\\local\\\\programs\\\\python\\\\python37\\\\lib', 'C:\\\\', 'c:\\\\users\\\\ag92031\\\\appdata\\\\local\\\\programs\\\\python\\\\python37\\\\libs', 'C:\\\\Users\\\\AG92031\\\\AppData\\\\Local\\\\Programs\\\\Python\\\\Python37\\\\Library\\\\lib']\n",
      "      NOT AVAILABLE\n",
      "    \n",
      "    openblas_info:\n",
      "      libraries openblas not found in ['c:\\\\users\\\\ag92031\\\\appdata\\\\local\\\\programs\\\\python\\\\python37\\\\lib', 'C:\\\\', 'c:\\\\users\\\\ag92031\\\\appdata\\\\local\\\\programs\\\\python\\\\python37\\\\libs', 'C:\\\\Users\\\\AG92031\\\\AppData\\\\Local\\\\Programs\\\\Python\\\\Python37\\\\Library\\\\lib']\n",
      "    get_default_fcompiler: matching types: '['gnu', 'intelv', 'absoft', 'compaqv', 'intelev', 'gnu95', 'g95', 'intelvem', 'intelem', 'flang']'\n",
      "    customize GnuFCompiler\n",
      "    Could not locate executable g77\n",
      "    Could not locate executable f77\n",
      "    customize IntelVisualFCompiler\n",
      "    Could not locate executable ifort\n",
      "    Could not locate executable ifl\n",
      "    customize AbsoftFCompiler\n",
      "    Could not locate executable f90\n",
      "    customize CompaqVisualFCompiler\n",
      "    Could not locate executable DF\n",
      "    customize IntelItaniumVisualFCompiler\n",
      "    Could not locate executable efl\n",
      "    customize Gnu95FCompiler\n",
      "    Could not locate executable gfortran\n",
      "    Could not locate executable f95\n",
      "    customize G95FCompiler\n",
      "    Could not locate executable g95\n",
      "    customize IntelEM64VisualFCompiler\n",
      "    customize IntelEM64TFCompiler\n",
      "    Could not locate executable efort\n",
      "    Could not locate executable efc\n",
      "    customize PGroupFlangCompiler\n",
      "    Could not locate executable flang\n",
      "    don't know how to compile Fortran code on platform 'nt'\n",
      "      NOT AVAILABLE\n",
      "    \n",
      "    atlas_3_10_blas_threads_info:\n",
      "    Setting PTATLAS=ATLAS\n",
      "      libraries tatlas not found in ['c:\\\\users\\\\ag92031\\\\appdata\\\\local\\\\programs\\\\python\\\\python37\\\\lib', 'C:\\\\', 'c:\\\\users\\\\ag92031\\\\appdata\\\\local\\\\programs\\\\python\\\\python37\\\\libs', 'C:\\\\Users\\\\AG92031\\\\AppData\\\\Local\\\\Programs\\\\Python\\\\Python37\\\\Library\\\\lib']\n",
      "      NOT AVAILABLE\n",
      "    \n",
      "    atlas_3_10_blas_info:\n",
      "      libraries satlas not found in ['c:\\\\users\\\\ag92031\\\\appdata\\\\local\\\\programs\\\\python\\\\python37\\\\lib', 'C:\\\\', 'c:\\\\users\\\\ag92031\\\\appdata\\\\local\\\\programs\\\\python\\\\python37\\\\libs', 'C:\\\\Users\\\\AG92031\\\\AppData\\\\Local\\\\Programs\\\\Python\\\\Python37\\\\Library\\\\lib']\n",
      "      NOT AVAILABLE\n",
      "    \n",
      "    atlas_blas_threads_info:\n",
      "    Setting PTATLAS=ATLAS\n",
      "      libraries ptf77blas,ptcblas,atlas not found in ['c:\\\\users\\\\ag92031\\\\appdata\\\\local\\\\programs\\\\python\\\\python37\\\\lib', 'C:\\\\', 'c:\\\\users\\\\ag92031\\\\appdata\\\\local\\\\programs\\\\python\\\\python37\\\\libs', 'C:\\\\Users\\\\AG92031\\\\AppData\\\\Local\\\\Programs\\\\Python\\\\Python37\\\\Library\\\\lib']\n",
      "      NOT AVAILABLE\n",
      "    \n",
      "    atlas_blas_info:\n",
      "      libraries f77blas,cblas,atlas not found in ['c:\\\\users\\\\ag92031\\\\appdata\\\\local\\\\programs\\\\python\\\\python37\\\\lib', 'C:\\\\', 'c:\\\\users\\\\ag92031\\\\appdata\\\\local\\\\programs\\\\python\\\\python37\\\\libs', 'C:\\\\Users\\\\AG92031\\\\AppData\\\\Local\\\\Programs\\\\Python\\\\Python37\\\\Library\\\\lib']\n",
      "      NOT AVAILABLE\n",
      "    \n",
      "    accelerate_info:\n",
      "      NOT AVAILABLE\n",
      "    \n",
      "    c:\\users\\ag92031\\appdata\\local\\programs\\python\\python37\\lib\\site-packages\\numpy\\distutils\\system_info.py:1914: UserWarning:\n",
      "        Optimized (vendor) Blas libraries are not found.\n",
      "        Falls back to netlib Blas library which has worse performance.\n",
      "        A better performance should be easily gained by switching\n",
      "        Blas library.\n",
      "      if self._calc_info(blas):\n",
      "    blas_info:\n",
      "      libraries blas not found in ['c:\\\\users\\\\ag92031\\\\appdata\\\\local\\\\programs\\\\python\\\\python37\\\\lib', 'C:\\\\', 'c:\\\\users\\\\ag92031\\\\appdata\\\\local\\\\programs\\\\python\\\\python37\\\\libs', 'C:\\\\Users\\\\AG92031\\\\AppData\\\\Local\\\\Programs\\\\Python\\\\Python37\\\\Library\\\\lib']\n",
      "      NOT AVAILABLE\n",
      "    \n",
      "    c:\\users\\ag92031\\appdata\\local\\programs\\python\\python37\\lib\\site-packages\\numpy\\distutils\\system_info.py:1914: UserWarning:\n",
      "        Blas (http://www.netlib.org/blas/) libraries not found.\n",
      "        Directories to search for the libraries can be specified in the\n",
      "        numpy/distutils/site.cfg file (section [blas]) or by setting\n",
      "        the BLAS environment variable.\n",
      "      if self._calc_info(blas):\n",
      "    blas_src_info:\n",
      "      NOT AVAILABLE\n",
      "    \n",
      "    c:\\users\\ag92031\\appdata\\local\\programs\\python\\python37\\lib\\site-packages\\numpy\\distutils\\system_info.py:1914: UserWarning:\n",
      "        Blas (http://www.netlib.org/blas/) sources not found.\n",
      "        Directories to search for the sources can be specified in the\n",
      "        numpy/distutils/site.cfg file (section [blas_src]) or by setting\n",
      "        the BLAS_SRC environment variable.\n",
      "      if self._calc_info(blas):\n",
      "      NOT AVAILABLE\n",
      "    \n",
      "    running install\n",
      "    running build\n",
      "    running config_cc\n",
      "    unifing config_cc, config, build_clib, build_ext, build commands --compiler options\n",
      "    running config_fc\n",
      "    unifing config_fc, config, build_clib, build_ext, build commands --fcompiler options\n",
      "    running build_src\n",
      "    build_src\n",
      "    building extension \"pyramid.__check_build._check_build\" sources\n",
      "    building extension \"pyramid.arima._arima\" sources\n",
      "    build_src: building npy-pkg config files\n",
      "    running build_py\n",
      "    creating build\n",
      "    creating build\\lib.win-amd64-3.7\n",
      "    creating build\\lib.win-amd64-3.7\\pyramid\n",
      "    copying pyramid\\setup.py -> build\\lib.win-amd64-3.7\\pyramid\n",
      "    copying pyramid\\_config.py -> build\\lib.win-amd64-3.7\\pyramid\n",
      "    copying pyramid\\__init__.py -> build\\lib.win-amd64-3.7\\pyramid\n",
      "    creating build\\lib.win-amd64-3.7\\pyramid\\__check_build\n",
      "    copying pyramid\\__check_build\\setup.py -> build\\lib.win-amd64-3.7\\pyramid\\__check_build\n",
      "    copying pyramid\\__check_build\\__init__.py -> build\\lib.win-amd64-3.7\\pyramid\\__check_build\n",
      "    creating build\\lib.win-amd64-3.7\\pyramid\\__check_build\\tests\n",
      "    copying pyramid\\__check_build\\tests\\test_check_build.py -> build\\lib.win-amd64-3.7\\pyramid\\__check_build/tests\n",
      "    copying pyramid\\__check_build\\tests\\__init__.py -> build\\lib.win-amd64-3.7\\pyramid\\__check_build/tests\n",
      "    creating build\\lib.win-amd64-3.7\\pyramid\\_build_utils\n",
      "    copying pyramid\\_build_utils\\__init__.py -> build\\lib.win-amd64-3.7\\pyramid\\_build_utils\n",
      "    creating build\\lib.win-amd64-3.7\\pyramid\\_build_utils\\tests\n",
      "    copying pyramid\\_build_utils\\tests\\__init__.py -> build\\lib.win-amd64-3.7\\pyramid\\_build_utils/tests\n",
      "    creating build\\lib.win-amd64-3.7\\pyramid\\compat\n",
      "    copying pyramid\\compat\\matplotlib.py -> build\\lib.win-amd64-3.7\\pyramid\\compat\n",
      "    copying pyramid\\compat\\numpy.py -> build\\lib.win-amd64-3.7\\pyramid\\compat\n",
      "    copying pyramid\\compat\\pandas.py -> build\\lib.win-amd64-3.7\\pyramid\\compat\n",
      "    copying pyramid\\compat\\python.py -> build\\lib.win-amd64-3.7\\pyramid\\compat\n",
      "    copying pyramid\\compat\\__init__.py -> build\\lib.win-amd64-3.7\\pyramid\\compat\n",
      "    creating build\\lib.win-amd64-3.7\\pyramid\\compat\\tests\n",
      "    copying pyramid\\compat\\tests\\test_compat.py -> build\\lib.win-amd64-3.7\\pyramid\\compat/tests\n",
      "    copying pyramid\\compat\\tests\\__init__.py -> build\\lib.win-amd64-3.7\\pyramid\\compat/tests\n",
      "    creating build\\lib.win-amd64-3.7\\pyramid\\datasets\n",
      "    copying pyramid\\datasets\\heartrate.py -> build\\lib.win-amd64-3.7\\pyramid\\datasets\n",
      "    copying pyramid\\datasets\\lynx.py -> build\\lib.win-amd64-3.7\\pyramid\\datasets\n",
      "    copying pyramid\\datasets\\wineind.py -> build\\lib.win-amd64-3.7\\pyramid\\datasets\n",
      "    copying pyramid\\datasets\\woolyrnq.py -> build\\lib.win-amd64-3.7\\pyramid\\datasets\n",
      "    copying pyramid\\datasets\\__init__.py -> build\\lib.win-amd64-3.7\\pyramid\\datasets\n",
      "    creating build\\lib.win-amd64-3.7\\pyramid\\utils\n",
      "    copying pyramid\\utils\\array.py -> build\\lib.win-amd64-3.7\\pyramid\\utils\n",
      "    copying pyramid\\utils\\metaestimators.py -> build\\lib.win-amd64-3.7\\pyramid\\utils\n",
      "    copying pyramid\\utils\\testing.py -> build\\lib.win-amd64-3.7\\pyramid\\utils\n",
      "    copying pyramid\\utils\\visualization.py -> build\\lib.win-amd64-3.7\\pyramid\\utils\n",
      "    copying pyramid\\utils\\wrapped.py -> build\\lib.win-amd64-3.7\\pyramid\\utils\n",
      "    copying pyramid\\utils\\__init__.py -> build\\lib.win-amd64-3.7\\pyramid\\utils\n",
      "    creating build\\lib.win-amd64-3.7\\pyramid\\utils\\tests\n",
      "    copying pyramid\\utils\\tests\\test_array.py -> build\\lib.win-amd64-3.7\\pyramid\\utils/tests\n",
      "    copying pyramid\\utils\\tests\\test_meta.py -> build\\lib.win-amd64-3.7\\pyramid\\utils/tests\n",
      "    copying pyramid\\utils\\tests\\test_testing.py -> build\\lib.win-amd64-3.7\\pyramid\\utils/tests\n",
      "    copying pyramid\\utils\\tests\\test_vis.py -> build\\lib.win-amd64-3.7\\pyramid\\utils/tests\n",
      "    copying pyramid\\utils\\tests\\test_wrapped.py -> build\\lib.win-amd64-3.7\\pyramid\\utils/tests\n",
      "    copying pyramid\\utils\\tests\\__init__.py -> build\\lib.win-amd64-3.7\\pyramid\\utils/tests\n",
      "    creating build\\lib.win-amd64-3.7\\pyramid\\arima\n",
      "    copying pyramid\\arima\\approx.py -> build\\lib.win-amd64-3.7\\pyramid\\arima\n",
      "    copying pyramid\\arima\\arima.py -> build\\lib.win-amd64-3.7\\pyramid\\arima\n",
      "    copying pyramid\\arima\\auto.py -> build\\lib.win-amd64-3.7\\pyramid\\arima\n",
      "    copying pyramid\\arima\\seasonality.py -> build\\lib.win-amd64-3.7\\pyramid\\arima\n",
      "    copying pyramid\\arima\\setup.py -> build\\lib.win-amd64-3.7\\pyramid\\arima\n",
      "    copying pyramid\\arima\\stationarity.py -> build\\lib.win-amd64-3.7\\pyramid\\arima\n",
      "    copying pyramid\\arima\\utils.py -> build\\lib.win-amd64-3.7\\pyramid\\arima\n",
      "    copying pyramid\\arima\\warnings.py -> build\\lib.win-amd64-3.7\\pyramid\\arima\n",
      "    copying pyramid\\arima\\__init__.py -> build\\lib.win-amd64-3.7\\pyramid\\arima\n",
      "    creating build\\lib.win-amd64-3.7\\pyramid\\arima\\tests\n",
      "    copying pyramid\\arima\\tests\\test_approx.py -> build\\lib.win-amd64-3.7\\pyramid\\arima\\tests\n",
      "    copying pyramid\\arima\\tests\\test_arima.py -> build\\lib.win-amd64-3.7\\pyramid\\arima\\tests\n",
      "    copying pyramid\\arima\\tests\\test_c_arima.py -> build\\lib.win-amd64-3.7\\pyramid\\arima\\tests\n",
      "    copying pyramid\\arima\\tests\\test_stationarity.py -> build\\lib.win-amd64-3.7\\pyramid\\arima\\tests\n",
      "    copying pyramid\\arima\\tests\\__init__.py -> build\\lib.win-amd64-3.7\\pyramid\\arima\\tests\n",
      "    running build_ext\n",
      "    No module named 'numpy.distutils._msvccompiler' in numpy.distutils; trying from distutils\n",
      "    customize MSVCCompiler\n",
      "    customize MSVCCompiler using build_ext\n",
      "    building 'pyramid.__check_build._check_build' extension\n",
      "    compiling C sources\n",
      "    creating build\\temp.win-amd64-3.7\\Release\\pyramid\n",
      "    creating build\\temp.win-amd64-3.7\\Release\\pyramid\\__check_build\n",
      "    C:\\Program Files (x86)\\Microsoft Visual Studio\\2019\\BuildTools\\VC\\Tools\\MSVC\\14.29.30133\\bin\\HostX86\\x64\\cl.exe /c /nologo /Ox /W3 /GL /DNDEBUG /MD -Ic:\\users\\ag92031\\appdata\\local\\programs\\python\\python37\\lib\\site-packages\\numpy\\core\\include -Ic:\\users\\ag92031\\appdata\\local\\programs\\python\\python37\\lib\\site-packages\\numpy\\core\\include -Ic:\\users\\ag92031\\appdata\\local\\programs\\python\\python37\\include -Ic:\\users\\ag92031\\appdata\\local\\programs\\python\\python37\\include -IC:\\Program Files (x86)\\Microsoft Visual Studio\\2019\\BuildTools\\VC\\Tools\\MSVC\\14.29.30133\\include -IC:\\Program Files (x86)\\Windows Kits\\10\\include\\10.0.19041.0\\ucrt -IC:\\Program Files (x86)\\Windows Kits\\10\\include\\10.0.19041.0\\shared -IC:\\Program Files (x86)\\Windows Kits\\10\\include\\10.0.19041.0\\um -IC:\\Program Files (x86)\\Windows Kits\\10\\include\\10.0.19041.0\\winrt -IC:\\Program Files (x86)\\Windows Kits\\10\\include\\10.0.19041.0\\cppwinrt /Tcpyramid\\__check_build\\_check_build.c /Fobuild\\temp.win-amd64-3.7\\Release\\pyramid\\__check_build\\_check_build.obj\n",
      "    C:\\Program Files (x86)\\Microsoft Visual Studio\\2019\\BuildTools\\VC\\Tools\\MSVC\\14.29.30133\\bin\\HostX86\\x64\\link.exe /nologo /INCREMENTAL:NO /LTCG /DLL /MANIFEST:EMBED,ID=2 /MANIFESTUAC:NO /LIBPATH:c:\\users\\ag92031\\appdata\\local\\programs\\python\\python37\\libs /LIBPATH:c:\\users\\ag92031\\appdata\\local\\programs\\python\\python37\\PCbuild\\amd64 /LIBPATH:C:\\Program Files (x86)\\Microsoft Visual Studio\\2019\\BuildTools\\VC\\Tools\\MSVC\\14.29.30133\\lib\\x64 /LIBPATH:C:\\Program Files (x86)\\Windows Kits\\10\\lib\\10.0.19041.0\\ucrt\\x64 /LIBPATH:C:\\Program Files (x86)\\Windows Kits\\10\\lib\\10.0.19041.0\\um\\x64 /EXPORT:PyInit__check_build build\\temp.win-amd64-3.7\\Release\\pyramid\\__check_build\\_check_build.obj /OUT:build\\lib.win-amd64-3.7\\pyramid\\__check_build\\_check_build.cp37-win_amd64.pyd /IMPLIB:build\\temp.win-amd64-3.7\\Release\\pyramid\\__check_build\\_check_build.cp37-win_amd64.lib\n",
      "    building 'pyramid.arima._arima' extension\n",
      "    compiling C sources\n",
      "    creating build\\temp.win-amd64-3.7\\Release\\pyramid\\arima\n",
      "    C:\\Program Files (x86)\\Microsoft Visual Studio\\2019\\BuildTools\\VC\\Tools\\MSVC\\14.29.30133\\bin\\HostX86\\x64\\cl.exe /c /nologo /Ox /W3 /GL /DNDEBUG /MD -Ic:\\users\\ag92031\\appdata\\local\\programs\\python\\python37\\lib\\site-packages\\numpy\\core\\include -Ipyramid\\arima\\_arima_fast_helpers.h -Ic:\\users\\ag92031\\appdata\\local\\programs\\python\\python37\\lib\\site-packages\\numpy\\core\\include -Ic:\\users\\ag92031\\appdata\\local\\programs\\python\\python37\\include -Ic:\\users\\ag92031\\appdata\\local\\programs\\python\\python37\\include -IC:\\Program Files (x86)\\Microsoft Visual Studio\\2019\\BuildTools\\VC\\Tools\\MSVC\\14.29.30133\\include -IC:\\Program Files (x86)\\Windows Kits\\10\\include\\10.0.19041.0\\ucrt -IC:\\Program Files (x86)\\Windows Kits\\10\\include\\10.0.19041.0\\shared -IC:\\Program Files (x86)\\Windows Kits\\10\\include\\10.0.19041.0\\um -IC:\\Program Files (x86)\\Windows Kits\\10\\include\\10.0.19041.0\\winrt -IC:\\Program Files (x86)\\Windows Kits\\10\\include\\10.0.19041.0\\cppwinrt /Tcpyramid\\arima\\_arima.c /Fobuild\\temp.win-amd64-3.7\\Release\\pyramid\\arima\\_arima.obj\n",
      "    _arima.c\n",
      "    c:\\users\\ag92031\\appdata\\local\\programs\\python\\python37\\lib\\site-packages\\numpy\\core\\include\\numpy\\npy_1_7_deprecated_api.h(14) : Warning Msg: Using deprecated NumPy API, disable it with #define NPY_NO_DEPRECATED_API NPY_1_7_API_VERSION\n",
      "    pyramid\\arima\\_arima.c(2735): warning C4244: '=': conversion from 'long' to 'char', possible loss of data\n",
      "    pyramid\\arima\\_arima.c(3162): warning C4244: '=': conversion from '__pyx_t_7pyramid_5arima_6_arima_INTP' to 'long', possible loss of data\n",
      "    pyramid\\arima\\_arima.c(3388): warning C4244: '=': conversion from '__pyx_t_7pyramid_5arima_6_arima_INTP' to 'long', possible loss of data\n",
      "    pyramid\\arima\\_arima.c(4573): warning C4244: '=': conversion from 'long' to 'char', possible loss of data\n",
      "    pyramid\\arima\\_arima.c(5161): warning C4244: 'function': conversion from '__pyx_t_7pyramid_5arima_6_arima_INTP' to 'int', possible loss of data\n",
      "    pyramid\\arima\\_arima.c(5161): warning C4244: 'function': conversion from '__pyx_t_7pyramid_5arima_6_arima_INTP' to 'int', possible loss of data\n",
      "    pyramid\\arima\\_arima.c(5161): warning C4244: 'function': conversion from '__pyx_t_7pyramid_5arima_6_arima_INTP' to 'double', possible loss of data\n",
      "    pyramid\\arima\\_arima.c(5161): warning C4244: 'function': conversion from '__pyx_t_7pyramid_5arima_6_arima_INTP' to 'double', possible loss of data\n",
      "    pyramid\\arima\\_arima.c(5502): warning C4244: 'function': conversion from '__pyx_t_7pyramid_5arima_6_arima_INTP' to 'int', possible loss of data\n",
      "    pyramid\\arima\\_arima.c(5502): warning C4244: 'function': conversion from '__pyx_t_7pyramid_5arima_6_arima_INTP' to 'int', possible loss of data\n",
      "    pyramid\\arima\\_arima.c(5502): warning C4244: 'function': conversion from '__pyx_t_7pyramid_5arima_6_arima_INTP' to 'double', possible loss of data\n",
      "    pyramid\\arima\\_arima.c(5502): warning C4244: 'function': conversion from '__pyx_t_7pyramid_5arima_6_arima_INTP' to 'double', possible loss of data\n",
      "    pyramid\\arima\\_arima.c(5887): warning C4244: '=': conversion from 'long' to 'char', possible loss of data\n",
      "    pyramid\\arima\\_arima.c(6106): warning C4244: '=': conversion from 'long' to 'char', possible loss of data\n",
      "    pyramid\\arima\\_arima.c(6515): warning C4244: '=': conversion from 'Py_ssize_t' to 'int', possible loss of data\n",
      "    pyramid\\arima\\_arima.c(6708): warning C4244: '=': conversion from 'Py_ssize_t' to 'int', possible loss of data\n",
      "    pyramid\\arima\\_arima.c(6901): warning C4244: '=': conversion from 'Py_ssize_t' to 'int', possible loss of data\n",
      "    pyramid\\arima\\_arima.c(7094): warning C4244: '=': conversion from 'Py_ssize_t' to 'int', possible loss of data\n",
      "    pyramid\\arima\\_arima.c(7522): warning C4244: '=': conversion from 'long' to 'char', possible loss of data\n",
      "    pyramid\\arima\\_arima.c(7741): warning C4244: '=': conversion from 'long' to 'char', possible loss of data\n",
      "    pyramid\\arima\\_arima.c(8239): warning C4244: 'function': conversion from '__pyx_t_7pyramid_5arima_6_arima_INTP' to 'long', possible loss of data\n",
      "    pyramid\\arima\\_arima.c(8292): warning C4244: 'function': conversion from '__pyx_t_7pyramid_5arima_6_arima_INTP' to 'long', possible loss of data\n",
      "    pyramid\\arima\\_arima.c(8469): warning C4244: '=': conversion from '__pyx_t_7pyramid_5arima_6_arima_INTP' to 'long', possible loss of data\n",
      "    pyramid\\arima\\_arima.c(8533): warning C4244: 'function': conversion from '__pyx_t_7pyramid_5arima_6_arima_INTP' to 'long', possible loss of data\n",
      "    pyramid\\arima\\_arima.c(8827): warning C4244: 'function': conversion from '__pyx_t_7pyramid_5arima_6_arima_INTP' to 'long', possible loss of data\n",
      "    pyramid\\arima\\_arima.c(8880): warning C4244: 'function': conversion from '__pyx_t_7pyramid_5arima_6_arima_INTP' to 'long', possible loss of data\n",
      "    pyramid\\arima\\_arima.c(9057): warning C4244: '=': conversion from '__pyx_t_7pyramid_5arima_6_arima_INTP' to 'long', possible loss of data\n",
      "    pyramid\\arima\\_arima.c(9121): warning C4244: 'function': conversion from '__pyx_t_7pyramid_5arima_6_arima_INTP' to 'long', possible loss of data\n",
      "    pyramid\\arima\\_arima.c(9415): warning C4244: 'function': conversion from '__pyx_t_7pyramid_5arima_6_arima_INTP' to 'long', possible loss of data\n",
      "    pyramid\\arima\\_arima.c(9468): warning C4244: 'function': conversion from '__pyx_t_7pyramid_5arima_6_arima_INTP' to 'long', possible loss of data\n",
      "    pyramid\\arima\\_arima.c(9645): warning C4244: '=': conversion from '__pyx_t_7pyramid_5arima_6_arima_INTP' to 'long', possible loss of data\n",
      "    pyramid\\arima\\_arima.c(9709): warning C4244: 'function': conversion from '__pyx_t_7pyramid_5arima_6_arima_INTP' to 'long', possible loss of data\n",
      "    pyramid\\arima\\_arima.c(10003): warning C4244: 'function': conversion from '__pyx_t_7pyramid_5arima_6_arima_INTP' to 'long', possible loss of data\n",
      "    pyramid\\arima\\_arima.c(10056): warning C4244: 'function': conversion from '__pyx_t_7pyramid_5arima_6_arima_INTP' to 'long', possible loss of data\n",
      "    pyramid\\arima\\_arima.c(10233): warning C4244: '=': conversion from '__pyx_t_7pyramid_5arima_6_arima_INTP' to 'long', possible loss of data\n",
      "    pyramid\\arima\\_arima.c(10297): warning C4244: 'function': conversion from '__pyx_t_7pyramid_5arima_6_arima_INTP' to 'long', possible loss of data\n",
      "    pyramid\\arima\\_arima.c(26129): error C2039: 'exc_type': is not a member of '_ts'\n",
      "    c:\\users\\ag92031\\appdata\\local\\programs\\python\\python37\\include\\pystate.h(209): note: see declaration of '_ts'\n",
      "    pyramid\\arima\\_arima.c(26130): error C2039: 'exc_value': is not a member of '_ts'\n",
      "    c:\\users\\ag92031\\appdata\\local\\programs\\python\\python37\\include\\pystate.h(209): note: see declaration of '_ts'\n",
      "    pyramid\\arima\\_arima.c(26131): error C2039: 'exc_traceback': is not a member of '_ts'\n",
      "    c:\\users\\ag92031\\appdata\\local\\programs\\python\\python37\\include\\pystate.h(209): note: see declaration of '_ts'\n",
      "    pyramid\\arima\\_arima.c(26138): error C2039: 'exc_type': is not a member of '_ts'\n",
      "    c:\\users\\ag92031\\appdata\\local\\programs\\python\\python37\\include\\pystate.h(209): note: see declaration of '_ts'\n",
      "    pyramid\\arima\\_arima.c(26139): error C2039: 'exc_value': is not a member of '_ts'\n",
      "    c:\\users\\ag92031\\appdata\\local\\programs\\python\\python37\\include\\pystate.h(209): note: see declaration of '_ts'\n",
      "    pyramid\\arima\\_arima.c(26140): error C2039: 'exc_traceback': is not a member of '_ts'\n",
      "    c:\\users\\ag92031\\appdata\\local\\programs\\python\\python37\\include\\pystate.h(209): note: see declaration of '_ts'\n",
      "    pyramid\\arima\\_arima.c(26141): error C2039: 'exc_type': is not a member of '_ts'\n",
      "    c:\\users\\ag92031\\appdata\\local\\programs\\python\\python37\\include\\pystate.h(209): note: see declaration of '_ts'\n",
      "    pyramid\\arima\\_arima.c(26142): error C2039: 'exc_value': is not a member of '_ts'\n",
      "    c:\\users\\ag92031\\appdata\\local\\programs\\python\\python37\\include\\pystate.h(209): note: see declaration of '_ts'\n",
      "    pyramid\\arima\\_arima.c(26143): error C2039: 'exc_traceback': is not a member of '_ts'\n",
      "    c:\\users\\ag92031\\appdata\\local\\programs\\python\\python37\\include\\pystate.h(209): note: see declaration of '_ts'\n",
      "    pyramid\\arima\\_arima.c(26198): error C2039: 'exc_type': is not a member of '_ts'\n",
      "    c:\\users\\ag92031\\appdata\\local\\programs\\python\\python37\\include\\pystate.h(209): note: see declaration of '_ts'\n",
      "    pyramid\\arima\\_arima.c(26199): error C2039: 'exc_value': is not a member of '_ts'\n",
      "    c:\\users\\ag92031\\appdata\\local\\programs\\python\\python37\\include\\pystate.h(209): note: see declaration of '_ts'\n",
      "    pyramid\\arima\\_arima.c(26200): error C2039: 'exc_traceback': is not a member of '_ts'\n",
      "    c:\\users\\ag92031\\appdata\\local\\programs\\python\\python37\\include\\pystate.h(209): note: see declaration of '_ts'\n",
      "    pyramid\\arima\\_arima.c(26201): error C2039: 'exc_type': is not a member of '_ts'\n",
      "    c:\\users\\ag92031\\appdata\\local\\programs\\python\\python37\\include\\pystate.h(209): note: see declaration of '_ts'\n",
      "    pyramid\\arima\\_arima.c(26202): error C2039: 'exc_value': is not a member of '_ts'\n",
      "    c:\\users\\ag92031\\appdata\\local\\programs\\python\\python37\\include\\pystate.h(209): note: see declaration of '_ts'\n",
      "    pyramid\\arima\\_arima.c(26203): error C2039: 'exc_traceback': is not a member of '_ts'\n",
      "    c:\\users\\ag92031\\appdata\\local\\programs\\python\\python37\\include\\pystate.h(209): note: see declaration of '_ts'\n",
      "    pyramid\\arima\\_arima.c(27811): error C2039: 'exc_type': is not a member of '_ts'\n",
      "    c:\\users\\ag92031\\appdata\\local\\programs\\python\\python37\\include\\pystate.h(209): note: see declaration of '_ts'\n",
      "    pyramid\\arima\\_arima.c(27812): error C2039: 'exc_value': is not a member of '_ts'\n",
      "    c:\\users\\ag92031\\appdata\\local\\programs\\python\\python37\\include\\pystate.h(209): note: see declaration of '_ts'\n",
      "    pyramid\\arima\\_arima.c(27813): error C2039: 'exc_traceback': is not a member of '_ts'\n",
      "    c:\\users\\ag92031\\appdata\\local\\programs\\python\\python37\\include\\pystate.h(209): note: see declaration of '_ts'\n",
      "    pyramid\\arima\\_arima.c(27814): error C2039: 'exc_type': is not a member of '_ts'\n",
      "    c:\\users\\ag92031\\appdata\\local\\programs\\python\\python37\\include\\pystate.h(209): note: see declaration of '_ts'\n",
      "    pyramid\\arima\\_arima.c(27815): error C2039: 'exc_value': is not a member of '_ts'\n",
      "    c:\\users\\ag92031\\appdata\\local\\programs\\python\\python37\\include\\pystate.h(209): note: see declaration of '_ts'\n",
      "    pyramid\\arima\\_arima.c(27816): error C2039: 'exc_traceback': is not a member of '_ts'\n",
      "    c:\\users\\ag92031\\appdata\\local\\programs\\python\\python37\\include\\pystate.h(209): note: see declaration of '_ts'\n",
      "    error: Command \"C:\\Program Files (x86)\\Microsoft Visual Studio\\2019\\BuildTools\\VC\\Tools\\MSVC\\14.29.30133\\bin\\HostX86\\x64\\cl.exe /c /nologo /Ox /W3 /GL /DNDEBUG /MD -Ic:\\users\\ag92031\\appdata\\local\\programs\\python\\python37\\lib\\site-packages\\numpy\\core\\include -Ipyramid\\arima\\_arima_fast_helpers.h -Ic:\\users\\ag92031\\appdata\\local\\programs\\python\\python37\\lib\\site-packages\\numpy\\core\\include -Ic:\\users\\ag92031\\appdata\\local\\programs\\python\\python37\\include -Ic:\\users\\ag92031\\appdata\\local\\programs\\python\\python37\\include -IC:\\Program Files (x86)\\Microsoft Visual Studio\\2019\\BuildTools\\VC\\Tools\\MSVC\\14.29.30133\\include -IC:\\Program Files (x86)\\Windows Kits\\10\\include\\10.0.19041.0\\ucrt -IC:\\Program Files (x86)\\Windows Kits\\10\\include\\10.0.19041.0\\shared -IC:\\Program Files (x86)\\Windows Kits\\10\\include\\10.0.19041.0\\um -IC:\\Program Files (x86)\\Windows Kits\\10\\include\\10.0.19041.0\\winrt -IC:\\Program Files (x86)\\Windows Kits\\10\\include\\10.0.19041.0\\cppwinrt /Tcpyramid\\arima\\_arima.c /Fobuild\\temp.win-amd64-3.7\\Release\\pyramid\\arima\\_arima.obj\" failed with exit status 2\n",
      "    ----------------------------------------\n",
      "ERROR: Command errored out with exit status 1: 'c:\\users\\ag92031\\appdata\\local\\programs\\python\\python37\\python.exe' -u -c 'import sys, setuptools, tokenize; sys.argv[0] = '\"'\"'C:\\\\Users\\\\AG92031\\\\AppData\\\\Local\\\\Temp\\\\1\\\\pip-install-iiwy2ake\\\\pyramid-arima_a819c7b3575e4afaaab70e6b4cd89b0b\\\\setup.py'\"'\"'; __file__='\"'\"'C:\\\\Users\\\\AG92031\\\\AppData\\\\Local\\\\Temp\\\\1\\\\pip-install-iiwy2ake\\\\pyramid-arima_a819c7b3575e4afaaab70e6b4cd89b0b\\\\setup.py'\"'\"';f=getattr(tokenize, '\"'\"'open'\"'\"', open)(__file__);code=f.read().replace('\"'\"'\\r\\n'\"'\"', '\"'\"'\\n'\"'\"');f.close();exec(compile(code, __file__, '\"'\"'exec'\"'\"'))' install --record 'C:\\Users\\AG92031\\AppData\\Local\\Temp\\1\\pip-record-81e93nk8\\install-record.txt' --single-version-externally-managed --compile --install-headers 'c:\\users\\ag92031\\appdata\\local\\programs\\python\\python37\\Include\\pyramid.arima' Check the logs for full command output.\n",
      "WARNING: You are using pip version 21.0.1; however, version 22.0.4 is available.\n",
      "You should consider upgrading via the 'c:\\users\\ag92031\\appdata\\local\\programs\\python\\python37\\python.exe -m pip install --upgrade pip' command.\n"
     ]
    },
    {
     "name": "stdout",
     "output_type": "stream",
     "text": [
      "Collecting fbprophetNote: you may need to restart the kernel to use updated packages.\n",
      "\n",
      "  Downloading fbprophet-0.7.1.tar.gz (64 kB)\n",
      "Requirement already satisfied: Cython>=0.22 in c:\\users\\ag92031\\appdata\\local\\programs\\python\\python37\\lib\\site-packages (from fbprophet) (0.29.21)\n",
      "Collecting cmdstanpy==0.9.5\n",
      "  Downloading cmdstanpy-0.9.5-py3-none-any.whl (37 kB)\n",
      "Collecting pystan>=2.14\n",
      "  Downloading pystan-3.3.0-py3-none-any.whl (13 kB)\n",
      "Requirement already satisfied: numpy>=1.15.4 in c:\\users\\ag92031\\appdata\\local\\programs\\python\\python37\\lib\\site-packages (from fbprophet) (1.19.5)\n",
      "Requirement already satisfied: pandas>=1.0.4 in c:\\users\\ag92031\\appdata\\local\\programs\\python\\python37\\lib\\site-packages (from fbprophet) (1.1.5)\n",
      "Requirement already satisfied: matplotlib>=2.0.0 in c:\\users\\ag92031\\appdata\\local\\programs\\python\\python37\\lib\\site-packages (from fbprophet) (3.3.4)\n",
      "Collecting LunarCalendar>=0.0.9\n",
      "  Downloading LunarCalendar-0.0.9-py2.py3-none-any.whl (18 kB)\n",
      "Collecting convertdate>=2.1.2\n",
      "  Downloading convertdate-2.4.0-py3-none-any.whl (47 kB)\n",
      "Collecting holidays>=0.10.2\n",
      "  Downloading holidays-0.13-py3-none-any.whl (172 kB)\n"
     ]
    },
    {
     "name": "stderr",
     "output_type": "stream",
     "text": [
      "  ERROR: Command errored out with exit status 1:\n",
      "   command: 'c:\\users\\ag92031\\appdata\\local\\programs\\python\\python37\\python.exe' -u -c 'import sys, setuptools, tokenize; sys.argv[0] = '\"'\"'C:\\\\Users\\\\AG92031\\\\AppData\\\\Local\\\\Temp\\\\1\\\\pip-install-_i8b7ws0\\\\fbprophet_075bc3c6f97844228172c1ceca076dd7\\\\setup.py'\"'\"'; __file__='\"'\"'C:\\\\Users\\\\AG92031\\\\AppData\\\\Local\\\\Temp\\\\1\\\\pip-install-_i8b7ws0\\\\fbprophet_075bc3c6f97844228172c1ceca076dd7\\\\setup.py'\"'\"';f=getattr(tokenize, '\"'\"'open'\"'\"', open)(__file__);code=f.read().replace('\"'\"'\\r\\n'\"'\"', '\"'\"'\\n'\"'\"');f.close();exec(compile(code, __file__, '\"'\"'exec'\"'\"'))' bdist_wheel -d 'C:\\Users\\AG92031\\AppData\\Local\\Temp\\1\\pip-wheel-7u7pmka6'\n",
      "       cwd: C:\\Users\\AG92031\\AppData\\Local\\Temp\\1\\pip-install-_i8b7ws0\\fbprophet_075bc3c6f97844228172c1ceca076dd7\\\n",
      "  Complete output (44 lines):\n",
      "  running bdist_wheel\n",
      "  running build\n",
      "  running build_py\n",
      "  creating build\n",
      "  creating build\\lib\n",
      "  creating build\\lib\\fbprophet\n",
      "  creating build\\lib\\fbprophet\\stan_model\n",
      "  Traceback (most recent call last):\n",
      "    File \"<string>\", line 1, in <module>\n",
      "    File \"C:\\Users\\AG92031\\AppData\\Local\\Temp\\1\\pip-install-_i8b7ws0\\fbprophet_075bc3c6f97844228172c1ceca076dd7\\setup.py\", line 149, in <module>\n",
      "      long_description_content_type='text/markdown',\n",
      "    File \"c:\\users\\ag92031\\appdata\\local\\programs\\python\\python37\\lib\\site-packages\\setuptools\\__init__.py\", line 153, in setup\n",
      "      return distutils.core.setup(**attrs)\n",
      "    File \"c:\\users\\ag92031\\appdata\\local\\programs\\python\\python37\\lib\\distutils\\core.py\", line 148, in setup\n",
      "      dist.run_commands()\n",
      "    File \"c:\\users\\ag92031\\appdata\\local\\programs\\python\\python37\\lib\\distutils\\dist.py\", line 966, in run_commands\n",
      "      self.run_command(cmd)\n",
      "    File \"c:\\users\\ag92031\\appdata\\local\\programs\\python\\python37\\lib\\distutils\\dist.py\", line 985, in run_command\n",
      "      cmd_obj.run()\n",
      "    File \"c:\\users\\ag92031\\appdata\\local\\programs\\python\\python37\\lib\\site-packages\\wheel\\bdist_wheel.py\", line 299, in run\n",
      "      self.run_command('build')\n",
      "    File \"c:\\users\\ag92031\\appdata\\local\\programs\\python\\python37\\lib\\distutils\\cmd.py\", line 313, in run_command\n",
      "      self.distribution.run_command(command)\n",
      "    File \"c:\\users\\ag92031\\appdata\\local\\programs\\python\\python37\\lib\\distutils\\dist.py\", line 985, in run_command\n",
      "      cmd_obj.run()\n",
      "    File \"c:\\users\\ag92031\\appdata\\local\\programs\\python\\python37\\lib\\distutils\\command\\build.py\", line 135, in run\n",
      "      self.run_command(cmd_name)\n",
      "    File \"c:\\users\\ag92031\\appdata\\local\\programs\\python\\python37\\lib\\distutils\\cmd.py\", line 313, in run_command\n",
      "      self.distribution.run_command(command)\n",
      "    File \"c:\\users\\ag92031\\appdata\\local\\programs\\python\\python37\\lib\\distutils\\dist.py\", line 985, in run_command\n",
      "      cmd_obj.run()\n",
      "    File \"C:\\Users\\AG92031\\AppData\\Local\\Temp\\1\\pip-install-_i8b7ws0\\fbprophet_075bc3c6f97844228172c1ceca076dd7\\setup.py\", line 48, in run\n",
      "      build_models(target_dir)\n",
      "    File \"C:\\Users\\AG92031\\AppData\\Local\\Temp\\1\\pip-install-_i8b7ws0\\fbprophet_075bc3c6f97844228172c1ceca076dd7\\setup.py\", line 36, in build_models\n",
      "      from fbprophet.models import StanBackendEnum\n",
      "    File \"C:\\Users\\AG92031\\AppData\\Local\\Temp\\1\\pip-install-_i8b7ws0\\fbprophet_075bc3c6f97844228172c1ceca076dd7\\fbprophet\\__init__.py\", line 8, in <module>\n",
      "      from fbprophet.forecaster import Prophet\n",
      "    File \"C:\\Users\\AG92031\\AppData\\Local\\Temp\\1\\pip-install-_i8b7ws0\\fbprophet_075bc3c6f97844228172c1ceca076dd7\\fbprophet\\forecaster.py\", line 17, in <module>\n",
      "      from fbprophet.make_holidays import get_holiday_names, make_holidays_df\n",
      "    File \"C:\\Users\\AG92031\\AppData\\Local\\Temp\\1\\pip-install-_i8b7ws0\\fbprophet_075bc3c6f97844228172c1ceca076dd7\\fbprophet\\make_holidays.py\", line 14, in <module>\n",
      "      import fbprophet.hdays as hdays_part2\n",
      "    File \"C:\\Users\\AG92031\\AppData\\Local\\Temp\\1\\pip-install-_i8b7ws0\\fbprophet_075bc3c6f97844228172c1ceca076dd7\\fbprophet\\hdays.py\", line 13, in <module>\n",
      "      from convertdate.islamic import from_gregorian, to_gregorian\n",
      "  ModuleNotFoundError: No module named 'convertdate'\n",
      "  ----------------------------------------\n",
      "  ERROR: Failed building wheel for fbprophet\n",
      "    ERROR: Command errored out with exit status 1:\n",
      "     command: 'c:\\users\\ag92031\\appdata\\local\\programs\\python\\python37\\python.exe' -u -c 'import sys, setuptools, tokenize; sys.argv[0] = '\"'\"'C:\\\\Users\\\\AG92031\\\\AppData\\\\Local\\\\Temp\\\\1\\\\pip-install-_i8b7ws0\\\\fbprophet_075bc3c6f97844228172c1ceca076dd7\\\\setup.py'\"'\"'; __file__='\"'\"'C:\\\\Users\\\\AG92031\\\\AppData\\\\Local\\\\Temp\\\\1\\\\pip-install-_i8b7ws0\\\\fbprophet_075bc3c6f97844228172c1ceca076dd7\\\\setup.py'\"'\"';f=getattr(tokenize, '\"'\"'open'\"'\"', open)(__file__);code=f.read().replace('\"'\"'\\r\\n'\"'\"', '\"'\"'\\n'\"'\"');f.close();exec(compile(code, __file__, '\"'\"'exec'\"'\"'))' install --record 'C:\\Users\\AG92031\\AppData\\Local\\Temp\\1\\pip-record-elf5q8bj\\install-record.txt' --single-version-externally-managed --compile --install-headers 'c:\\users\\ag92031\\appdata\\local\\programs\\python\\python37\\Include\\fbprophet'\n",
      "         cwd: C:\\Users\\AG92031\\AppData\\Local\\Temp\\1\\pip-install-_i8b7ws0\\fbprophet_075bc3c6f97844228172c1ceca076dd7\\\n",
      "    Complete output (44 lines):\n",
      "    running install\n",
      "    running build\n",
      "    running build_py\n",
      "    creating build\n",
      "    creating build\\lib\n",
      "    creating build\\lib\\fbprophet\n",
      "    creating build\\lib\\fbprophet\\stan_model\n",
      "    Traceback (most recent call last):"
     ]
    },
    {
     "name": "stdout",
     "output_type": "stream",
     "text": [
      "Collecting setuptools-git>=1.2\n",
      "  Downloading setuptools_git-1.2-py2.py3-none-any.whl (10 kB)\n",
      "Requirement already satisfied: python-dateutil>=2.8.0 in c:\\users\\ag92031\\appdata\\local\\programs\\python\\python37\\lib\\site-packages (from fbprophet) (2.8.1)\n",
      "Requirement already satisfied: tqdm>=4.36.1 in c:\\users\\ag92031\\appdata\\local\\programs\\python\\python37\\lib\\site-packages (from fbprophet) (4.56.0)\n",
      "Collecting pymeeus<=1,>=0.3.13\n",
      "  Downloading PyMeeus-0.5.11.tar.gz (5.4 MB)\n",
      "Collecting hijri-converter\n",
      "  Downloading hijri_converter-2.2.3-py3-none-any.whl (14 kB)\n",
      "Collecting korean-lunar-calendar\n",
      "  Downloading korean_lunar_calendar-0.2.1-py3-none-any.whl (8.0 kB)\n",
      "Collecting ephem>=3.7.5.3\n",
      "  Downloading ephem-4.1.3-cp37-cp37m-win_amd64.whl (1.4 MB)\n",
      "Requirement already satisfied: pytz in c:\\users\\ag92031\\appdata\\local\\programs\\python\\python37\\lib\\site-packages (from LunarCalendar>=0.0.9->fbprophet) (2019.2)\n",
      "Requirement already satisfied: pyparsing!=2.0.4,!=2.1.2,!=2.1.6,>=2.0.3 in c:\\users\\ag92031\\appdata\\local\\programs\\python\\python37\\lib\\site-packages (from matplotlib>=2.0.0->fbprophet) (2.4.7)\n",
      "Requirement already satisfied: cycler>=0.10 in c:\\users\\ag92031\\appdata\\local\\programs\\python\\python37\\lib\\site-packages (from matplotlib>=2.0.0->fbprophet) (0.10.0)\n",
      "Requirement already satisfied: kiwisolver>=1.0.1 in c:\\users\\ag92031\\appdata\\local\\programs\\python\\python37\\lib\\site-packages (from matplotlib>=2.0.0->fbprophet) (1.3.1)\n",
      "Requirement already satisfied: pillow>=6.2.0 in c:\\users\\ag92031\\appdata\\local\\programs\\python\\python37\\lib\\site-packages (from matplotlib>=2.0.0->fbprophet) (8.1.0)\n",
      "Requirement already satisfied: six in c:\\users\\ag92031\\appdata\\local\\programs\\python\\python37\\lib\\site-packages (from cycler>=0.10->matplotlib>=2.0.0->fbprophet) (1.15.0)\n",
      "Collecting pysimdjson<4.0,>=3.2\n",
      "  Downloading pysimdjson-3.2.0-cp37-cp37m-win_amd64.whl (149 kB)\n",
      "Collecting clikit<0.7,>=0.6\n",
      "  Downloading clikit-0.6.2-py2.py3-none-any.whl (91 kB)\n",
      "Requirement already satisfied: aiohttp<4.0,>=3.6 in c:\\users\\ag92031\\appdata\\local\\programs\\python\\python37\\lib\\site-packages (from pystan>=2.14->fbprophet) (3.7.4.post0)\n",
      "Collecting pystan>=2.14\n",
      "  Downloading pystan-3.2.0-py3-none-any.whl (13 kB)\n",
      "  Downloading pystan-3.1.1-py3-none-any.whl (13 kB)\n",
      "  Downloading pystan-3.1.0-py3-none-any.whl (13 kB)\n",
      "  Downloading pystan-3.0.2-py3-none-any.whl (13 kB)\n",
      "  Downloading pystan-3.0.1-py3-none-any.whl (12 kB)\n",
      "  Downloading pystan-3.0.0-py3-none-any.whl (12 kB)\n",
      "  Downloading pystan-2.19.1.1-cp37-cp37m-win_amd64.whl (79.8 MB)\n",
      "Building wheels for collected packages: fbprophet, pymeeus\n",
      "  Building wheel for fbprophet (setup.py): started\n",
      "  Building wheel for fbprophet (setup.py): finished with status 'error'\n",
      "  Running setup.py clean for fbprophet\n",
      "  Building wheel for pymeeus (setup.py): started\n",
      "  Building wheel for pymeeus (setup.py): finished with status 'done'\n",
      "  Created wheel for pymeeus: filename=PyMeeus-0.5.11-py3-none-any.whl size=730973 sha256=890704c62e15de7a75d8592da1f3837aa2768a0f1e9cdced08055137e8c7b4af\n",
      "  Stored in directory: c:\\users\\ag92031\\appdata\\local\\pip\\cache\\wheels\\33\\6b\\a6\\1d9dae2323750f635654952afc74aa8f2d982cded163f43895\n",
      "Successfully built pymeeus\n",
      "Failed to build fbprophet\n",
      "Installing collected packages: pymeeus, korean-lunar-calendar, hijri-converter, ephem, convertdate, setuptools-git, pystan, LunarCalendar, holidays, cmdstanpy, fbprophet\n",
      "    Running setup.py install for fbprophet: started\n",
      "    Running setup.py install for fbprophet: finished with status 'error'\n"
     ]
    },
    {
     "name": "stderr",
     "output_type": "stream",
     "text": [
      "\n",
      "      File \"<string>\", line 1, in <module>\n",
      "      File \"C:\\Users\\AG92031\\AppData\\Local\\Temp\\1\\pip-install-_i8b7ws0\\fbprophet_075bc3c6f97844228172c1ceca076dd7\\setup.py\", line 149, in <module>\n",
      "        long_description_content_type='text/markdown',\n",
      "      File \"c:\\users\\ag92031\\appdata\\local\\programs\\python\\python37\\lib\\site-packages\\setuptools\\__init__.py\", line 153, in setup\n",
      "        return distutils.core.setup(**attrs)\n",
      "      File \"c:\\users\\ag92031\\appdata\\local\\programs\\python\\python37\\lib\\distutils\\core.py\", line 148, in setup\n",
      "        dist.run_commands()\n",
      "      File \"c:\\users\\ag92031\\appdata\\local\\programs\\python\\python37\\lib\\distutils\\dist.py\", line 966, in run_commands\n",
      "        self.run_command(cmd)\n",
      "      File \"c:\\users\\ag92031\\appdata\\local\\programs\\python\\python37\\lib\\distutils\\dist.py\", line 985, in run_command\n",
      "        cmd_obj.run()\n",
      "      File \"c:\\users\\ag92031\\appdata\\local\\programs\\python\\python37\\lib\\site-packages\\setuptools\\command\\install.py\", line 61, in run\n",
      "        return orig.install.run(self)\n",
      "      File \"c:\\users\\ag92031\\appdata\\local\\programs\\python\\python37\\lib\\distutils\\command\\install.py\", line 545, in run\n",
      "        self.run_command('build')\n",
      "      File \"c:\\users\\ag92031\\appdata\\local\\programs\\python\\python37\\lib\\distutils\\cmd.py\", line 313, in run_command\n",
      "        self.distribution.run_command(command)\n",
      "      File \"c:\\users\\ag92031\\appdata\\local\\programs\\python\\python37\\lib\\distutils\\dist.py\", line 985, in run_command\n",
      "        cmd_obj.run()\n",
      "      File \"c:\\users\\ag92031\\appdata\\local\\programs\\python\\python37\\lib\\distutils\\command\\build.py\", line 135, in run\n",
      "        self.run_command(cmd_name)\n",
      "      File \"c:\\users\\ag92031\\appdata\\local\\programs\\python\\python37\\lib\\distutils\\cmd.py\", line 313, in run_command\n",
      "        self.distribution.run_command(command)\n",
      "      File \"c:\\users\\ag92031\\appdata\\local\\programs\\python\\python37\\lib\\distutils\\dist.py\", line 985, in run_command\n",
      "        cmd_obj.run()\n",
      "      File \"C:\\Users\\AG92031\\AppData\\Local\\Temp\\1\\pip-install-_i8b7ws0\\fbprophet_075bc3c6f97844228172c1ceca076dd7\\setup.py\", line 48, in run\n",
      "        build_models(target_dir)\n",
      "      File \"C:\\Users\\AG92031\\AppData\\Local\\Temp\\1\\pip-install-_i8b7ws0\\fbprophet_075bc3c6f97844228172c1ceca076dd7\\setup.py\", line 38, in build_models\n",
      "        StanBackendEnum.get_backend_class(backend).build_model(target_dir, MODEL_DIR)\n",
      "      File \"C:\\Users\\AG92031\\AppData\\Local\\Temp\\1\\pip-install-_i8b7ws0\\fbprophet_075bc3c6f97844228172c1ceca076dd7\\fbprophet\\models.py\", line 209, in build_model\n",
      "        import pystan\n",
      "      File \"c:\\users\\ag92031\\appdata\\local\\programs\\python\\python37\\lib\\site-packages\\pystan\\__init__.py\", line 9, in <module>\n",
      "        from pystan.api import stanc, stan\n",
      "      File \"c:\\users\\ag92031\\appdata\\local\\programs\\python\\python37\\lib\\site-packages\\pystan\\api.py\", line 13, in <module>\n",
      "        import pystan._api  # stanc wrapper\n",
      "    ImportError: DLL load failed: The specified module could not be found.\n",
      "    ----------------------------------------\n",
      "ERROR: Command errored out with exit status 1: 'c:\\users\\ag92031\\appdata\\local\\programs\\python\\python37\\python.exe' -u -c 'import sys, setuptools, tokenize; sys.argv[0] = '\"'\"'C:\\\\Users\\\\AG92031\\\\AppData\\\\Local\\\\Temp\\\\1\\\\pip-install-_i8b7ws0\\\\fbprophet_075bc3c6f97844228172c1ceca076dd7\\\\setup.py'\"'\"'; __file__='\"'\"'C:\\\\Users\\\\AG92031\\\\AppData\\\\Local\\\\Temp\\\\1\\\\pip-install-_i8b7ws0\\\\fbprophet_075bc3c6f97844228172c1ceca076dd7\\\\setup.py'\"'\"';f=getattr(tokenize, '\"'\"'open'\"'\"', open)(__file__);code=f.read().replace('\"'\"'\\r\\n'\"'\"', '\"'\"'\\n'\"'\"');f.close();exec(compile(code, __file__, '\"'\"'exec'\"'\"'))' install --record 'C:\\Users\\AG92031\\AppData\\Local\\Temp\\1\\pip-record-elf5q8bj\\install-record.txt' --single-version-externally-managed --compile --install-headers 'c:\\users\\ag92031\\appdata\\local\\programs\\python\\python37\\Include\\fbprophet' Check the logs for full command output.\n",
      "WARNING: You are using pip version 21.0.1; however, version 22.0.4 is available.\n",
      "You should consider upgrading via the 'c:\\users\\ag92031\\appdata\\local\\programs\\python\\python37\\python.exe -m pip install --upgrade pip' command.\n"
     ]
    }
   ],
   "source": [
    "pip install fbprophet"
   ]
  },
  {
   "cell_type": "code",
   "execution_count": 11,
   "metadata": {},
   "outputs": [],
   "source": [
    "import statsmodels.api as sm \n",
    "from statsmodels.graphics.tsaplots import plot_acf, plot_pacf\n",
    "from statsmodels.tsa.stattools import adfuller\n",
    "from statsmodels.tsa.seasonal import seasonal_decompose \n",
    "from statsmodels.tsa.ar_model import AR \n",
    "from statsmodels.tsa.arima_model import ARMA, ARIMA\n",
    "# from pyramid.arima import auto_arima \n",
    "from statsmodels.tsa.statespace.sarimax import SARIMAX\n",
    "# from fbprophet import Prophet\n",
    "\n",
    "from math import sqrt"
   ]
  },
  {
   "cell_type": "code",
   "execution_count": 8,
   "metadata": {},
   "outputs": [],
   "source": [
    "# decomposing time series\n",
    "\n",
    "# a.) statsmodels are used\n",
    "# b.) after decomposition, time series data deconstructs into several components, each component will represent one of the following categories\n",
    "# c.) we'll be able to see seasonality, trend, residual components of our data"
   ]
  },
  {
   "cell_type": "code",
   "execution_count": 12,
   "metadata": {},
   "outputs": [],
   "source": [
    "from pylab import rcParams "
   ]
  },
  {
   "cell_type": "code",
   "execution_count": 37,
   "metadata": {},
   "outputs": [
    {
     "data": {
      "image/png": "[encoded data removed]",
      "text/plain": [
       "<Figure size 432x288 with 4 Axes>"
      ]
     },
     "metadata": {
      "needs_background": "light"
     },
     "output_type": "display_data"
    }
   ],
   "source": [
    "decom = sm.tsa.seasonal_decompose(new_df, model = 'multiplicative')\n",
    "decom.plot()\n",
    "plt.show()"
   ]
  },
  {
   "cell_type": "code",
   "execution_count": null,
   "metadata": {},
   "outputs": [],
   "source": [
    "during lockdown:\n",
    "    \n",
    "shopA -> registered with zomato, swiggy       -> Huge Profits\n",
    "shopB -> Not registered with zomato, swiggy   -> "
   ]
  },
  {
   "cell_type": "code",
   "execution_count": null,
   "metadata": {},
   "outputs": [],
   "source": [
    "# Stationarity \n",
    "\n",
    "# stationary -> no movement\n",
    "\n",
    "# 1. time series is called a stationary graph when its statistical properties like mean, median, mode remain constant over time.\n",
    "# 2. We assume TS is stationary \n",
    "# 3. Bcz in future it has to follow the same trend \n",
    "# 4. easier to implement than non stationary time series\n",
    "\n",
    "# works very well for sales data"
   ]
  },
  {
   "cell_type": "code",
   "execution_count": null,
   "metadata": {},
   "outputs": [],
   "source": [
    "# amul -> over all the country \n",
    "\n",
    "# selling in 1 shop -> "
   ]
  },
  {
   "cell_type": "code",
   "execution_count": 38,
   "metadata": {},
   "outputs": [
    {
     "data": {
      "text/plain": [
       "[<matplotlib.lines.Line2D at 0x1c0817c4400>]"
      ]
     },
     "execution_count": 38,
     "metadata": {},
     "output_type": "execute_result"
    },
    {
     "data": {
      "image/png": "[encoded data removed]",
      "text/plain": [
       "<Figure size 432x288 with 1 Axes>"
      ]
     },
     "metadata": {
      "needs_background": "light"
     },
     "output_type": "display_data"
    }
   ],
   "source": [
    "plt.plot(new_df)"
   ]
  },
  {
   "cell_type": "code",
   "execution_count": null,
   "metadata": {},
   "outputs": [],
   "source": [
    "# 3 methods to check stationarity of a graph:\n",
    "\n",
    "# a. ACF, PACF plots - quick drop-off in correlation after a small amount of lag between points\n",
    "\n",
    "# b. Plotting Rolling Statistics - plot moving averages or moving variance and see whether it varies with time. \n",
    "                                \n",
    "#        Difference moving average/variance vs average/variance?\n",
    "#          moving avg/var -> measured for any instant or time period\n",
    "#          avg/var -> measured for last 12 months\n",
    "\n",
    "# c. Augmented Dickey-Fuller Test\n",
    "          \n",
    "#          Null Hypothesis -> TS is non-stationary   \n",
    "#          test results - test statistic and some critical values for different CI (Confidence intervals)\n",
    "         \n",
    "#          test statistic < critical value  => we reject the null hypothesis  -> TS is stationary\n",
    "\n",
    "# these 3 methods are used to test whether a time series graph is stationary or not"
   ]
  },
  {
   "cell_type": "code",
   "execution_count": null,
   "metadata": {},
   "outputs": [],
   "source": [
    "Data -> EDA, Viz -> TS is stationary or non-stationary (3 tests) => Transformations if TS is non-stationary \n",
    "\n",
    "Prediction is also called as Forecasting:  Time Series Forecasting Models\n",
    "    \n",
    "    Auto Regression \n",
    "    Moving Average\n",
    "    Autoregressive Moving Average (ARMA)\n",
    "    Autoregressive Integrated Moving Average (ARIMA)\n",
    "    Auto ARIMA\n",
    "    Seasonal Autoregressive Integrated Moving Average (SARIMA)\n",
    "    Auto SARIMA\n",
    "    Tuned SARIMA\n",
    "    SARIMAX"
   ]
  },
  {
   "cell_type": "code",
   "execution_count": null,
   "metadata": {},
   "outputs": [],
   "source": [
    "\"\"\"\n",
    "ACF and PACF plots\n",
    "\n",
    "    ACF -> Auto correlation function\n",
    "    PACF -> Partial Auto correlation Function\n",
    "    \n",
    "    Time series data is stationary -> ACF/PACF plots will show a quick drop-off in correlation\n",
    "    Data is Non-stationary\n",
    "    \n",
    "\"\"\"\n"
   ]
  },
  {
   "cell_type": "code",
   "execution_count": 41,
   "metadata": {},
   "outputs": [],
   "source": [
    "from statsmodels.graphics.tsaplots import plot_acf\n",
    "from statsmodels.graphics.tsaplots import plot_pacf"
   ]
  },
  {
   "cell_type": "code",
   "execution_count": 44,
   "metadata": {},
   "outputs": [],
   "source": [
    "import matplotlib"
   ]
  },
  {
   "cell_type": "code",
   "execution_count": 46,
   "metadata": {},
   "outputs": [],
   "source": [
    "from matplotlib import pyplot"
   ]
  },
  {
   "cell_type": "code",
   "execution_count": 47,
   "metadata": {},
   "outputs": [
    {
     "name": "stderr",
     "output_type": "stream",
     "text": [
      "c:\\users\\ag92031\\appdata\\local\\programs\\python\\python37\\lib\\site-packages\\statsmodels\\graphics\\tsaplots.py:353: FutureWarning: The default method 'yw' can produce PACF values outside of the [-1,1] interval. After 0.13, the default will change tounadjusted Yule-Walker ('ywm'). You can use this method now by setting method='ywm'.\n",
      "  FutureWarning,\n"
     ]
    },
    {
     "data": {
      "image/png": "[encoded data removed]",
      "text/plain": [
       "<Figure size 432x288 with 2 Axes>"
      ]
     },
     "metadata": {
      "needs_background": "light"
     },
     "output_type": "display_data"
    }
   ],
   "source": [
    "pyplot.figure()\n",
    "pyplot.subplot(211)\n",
    "plot_acf(new_df['travellers'], ax=pyplot.gca(), lags = 30)\n",
    "pyplot.subplot(212)\n",
    "plot_pacf(new_df['travellers'], ax=pyplot.gca(), lags = 30)\n",
    "pyplot.show()"
   ]
  },
  {
   "cell_type": "code",
   "execution_count": 48,
   "metadata": {},
   "outputs": [],
   "source": [
    "# Plotting Rolling Statistics \n",
    "\n",
    "#  if we observe mean and std dev r not same over the time \n",
    "#  then the TS is non-stationary"
   ]
  },
  {
   "cell_type": "code",
   "execution_count": 50,
   "metadata": {},
   "outputs": [],
   "source": [
    "import pandas as pd"
   ]
  },
  {
   "cell_type": "code",
   "execution_count": 62,
   "metadata": {},
   "outputs": [
    {
     "data": {
      "image/png": "[encoded data removed]",
      "text/plain": [
       "<Figure size 432x288 with 1 Axes>"
      ]
     },
     "metadata": {
      "needs_background": "light"
     },
     "output_type": "display_data"
    }
   ],
   "source": [
    "mean = new_df.rolling(12).mean()\n",
    "std = new_df.rolling(12).std()\n",
    "\n",
    "plt.plot(new_df, color = 'red', label = 'original')\n",
    "plt.plot(mean, color = 'blue', label = 'mean')\n",
    "plt.plot(std, color = 'black', label = 'std')\n",
    "plt.legend()\n",
    "plt.show()"
   ]
  },
  {
   "cell_type": "code",
   "execution_count": 59,
   "metadata": {},
   "outputs": [],
   "source": [
    "# Augmented Dickey Fuller Test\n",
    "\n",
    "from statsmodels.tsa.stattools import adfuller"
   ]
  },
  {
   "cell_type": "code",
   "execution_count": 63,
   "metadata": {},
   "outputs": [
    {
     "name": "stdout",
     "output_type": "stream",
     "text": [
      "Test stat               0.815369\n",
      "p-val                   0.991880\n",
      "lag                    13.000000\n",
      "observation           130.000000\n",
      "Critical val (1%)      -3.481682\n",
      "Critical val (5%)      -2.884042\n",
      "Critical val (10%)     -2.578770\n",
      "dtype: float64\n"
     ]
    }
   ],
   "source": [
    "dftest = adfuller(new_df, autolag = 'AIC')\n",
    "op = pd.Series(dftest[0:4], index = ['Test stat', 'p-val', 'lag', 'observation'])\n",
    "\n",
    "\n",
    "for k,v in dftest[4].items():\n",
    "    op['Critical val (%s)'%k] = v\n",
    "    \n",
    "print(op)"
   ]
  },
  {
   "cell_type": "code",
   "execution_count": null,
   "metadata": {},
   "outputs": [],
   "source": [
    "test stat < critical_Val ?\n",
    "\n",
    "False -> So, TS is a non-stationary"
   ]
  },
  {
   "cell_type": "code",
   "execution_count": null,
   "metadata": {},
   "outputs": [],
   "source": [
    "Our TS graph is Non-Stationary"
   ]
  },
  {
   "cell_type": "code",
   "execution_count": null,
   "metadata": {},
   "outputs": [],
   "source": [
    "If our TS graph is Non-Stationary, there r 2 main reasons:\n",
    "    \n",
    "    1. Trend - varying mean over time\n",
    "    2. Seasonality - variations at specific-time period"
   ]
  },
  {
   "cell_type": "code",
   "execution_count": null,
   "metadata": {},
   "outputs": [],
   "source": [
    "Transformations:\n",
    "     it will penalize higher values (cube, square, log)"
   ]
  },
  {
   "cell_type": "code",
   "execution_count": 70,
   "metadata": {},
   "outputs": [
    {
     "data": {
      "text/plain": [
       "[<matplotlib.lines.Line2D at 0x1c084fcaa90>]"
      ]
     },
     "execution_count": 70,
     "metadata": {},
     "output_type": "execute_result"
    },
    {
     "data": {
      "image/png": "[encoded data removed]",
      "text/plain": [
       "<Figure size 432x288 with 1 Axes>"
      ]
     },
     "metadata": {
      "needs_background": "light"
     },
     "output_type": "display_data"
    }
   ],
   "source": [
    "ts_log_transform = np.log(new_df)\n",
    "plt.plot(ts_log_transform, color = 'orange')"
   ]
  },
  {
   "cell_type": "code",
   "execution_count": 69,
   "metadata": {},
   "outputs": [
    {
     "data": {
      "text/plain": [
       "[<matplotlib.lines.Line2D at 0x1c084f6bcc0>]"
      ]
     },
     "execution_count": 69,
     "metadata": {},
     "output_type": "execute_result"
    },
    {
     "data": {
      "image/png": "[encoded data removed]",
      "text/plain": [
       "<Figure size 432x288 with 1 Axes>"
      ]
     },
     "metadata": {
      "needs_background": "light"
     },
     "output_type": "display_data"
    }
   ],
   "source": [
    "plt.plot(new_df, color = 'black')"
   ]
  },
  {
   "cell_type": "code",
   "execution_count": null,
   "metadata": {},
   "outputs": [],
   "source": [
    "other transformations: \n",
    "    exponential transformation\n",
    "    box cox tranformations\n",
    "    square root transformations"
   ]
  },
  {
   "cell_type": "code",
   "execution_count": null,
   "metadata": {},
   "outputs": [],
   "source": [
    "Next Class:\n",
    "    2 things:\n",
    "        \n",
    "        1. convert non-stationary TS into Stationary TS (by removing trend and seasonality)\n",
    "        2. build a TS Forecasting model"
   ]
  }
 ],
 "metadata": {
  "kernelspec": {
   "display_name": "Python 3",
   "language": "python",
   "name": "python3"
  },
  "language_info": {
   "codemirror_mode": {
    "name": "ipython",
    "version": 3
   },
   "file_extension": ".py",
   "mimetype": "text/x-python",
   "name": "python",
   "nbconvert_exporter": "python",
   "pygments_lexer": "ipython3",
   "version": "3.7.0"
  }
 },
 "nbformat": 4,
 "nbformat_minor": 2
}
